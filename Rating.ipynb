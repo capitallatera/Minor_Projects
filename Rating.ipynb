{
  "nbformat": 4,
  "nbformat_minor": 0,
  "metadata": {
    "kernelspec": {
      "display_name": "Python 3",
      "language": "python",
      "name": "python3"
    },
    "language_info": {
      "codemirror_mode": {
        "name": "ipython",
        "version": 3
      },
      "file_extension": ".py",
      "mimetype": "text/x-python",
      "name": "python",
      "nbconvert_exporter": "python",
      "pygments_lexer": "ipython3",
      "version": "3.7.4"
    },
    "colab": {
      "name": "Rating.ipynb",
      "provenance": [],
      "include_colab_link": true
    }
  },
  "cells": [
    {
      "cell_type": "markdown",
      "metadata": {
        "id": "view-in-github",
        "colab_type": "text"
      },
      "source": [
        "<a href=\"https://colab.research.google.com/github/capitallatera/Minor_Projects/blob/master/Rating.ipynb\" target=\"_parent\"><img src=\"https://colab.research.google.com/assets/colab-badge.svg\" alt=\"Open In Colab\"/></a>"
      ]
    },
    {
      "cell_type": "code",
      "metadata": {
        "id": "Zc6DsQ-bo0Jp",
        "colab_type": "code",
        "colab": {}
      },
      "source": [
        "import requests\n",
        "from bs4 import BeautifulSoup\n",
        "import re"
      ],
      "execution_count": null,
      "outputs": []
    },
    {
      "cell_type": "code",
      "metadata": {
        "id": "g4TRP0IKo0KF",
        "colab_type": "code",
        "colab": {}
      },
      "source": [
        "url='https://torrentz2.is/search'  # use it without https/http"
      ],
      "execution_count": null,
      "outputs": []
    },
    {
      "cell_type": "code",
      "metadata": {
        "id": "RyHcPk8mo0Kh",
        "colab_type": "code",
        "colab": {}
      },
      "source": [
        "data=[]\n",
        "def f():\n",
        "    try:\n",
        "        r=requests.get(url,verify = False)\n",
        "        soup=BeautifulSoup(r.text,'html.parser')\n",
        "        data_iterator=iter(soup.find_all('dl'))\n",
        "        while True:\n",
        "            try:\n",
        "                d_1=next(data_iterator).text\n",
        "                data.append((d_1))\n",
        "        \n",
        "            except StopIteration:\n",
        "                break\n",
        "        \n",
        "    except:\n",
        "        f()"
      ],
      "execution_count": null,
      "outputs": []
    },
    {
      "cell_type": "code",
      "metadata": {
        "id": "npW4qSgko0Ku",
        "colab_type": "code",
        "colab": {},
        "outputId": "0d710a9d-8408-4db4-c39d-ab588771d018"
      },
      "source": [
        "f()"
      ],
      "execution_count": null,
      "outputs": [
        {
          "output_type": "stream",
          "text": [
            "/home/anil/anaconda3/lib/python3.7/site-packages/urllib3/connectionpool.py:847: InsecureRequestWarning: Unverified HTTPS request is being made. Adding certificate verification is strongly advised. See: https://urllib3.readthedocs.io/en/latest/advanced-usage.html#ssl-warnings\n",
            "  InsecureRequestWarning)\n"
          ],
          "name": "stderr"
        }
      ]
    },
    {
      "cell_type": "code",
      "metadata": {
        "id": "PQb66ixZo0K8",
        "colab_type": "code",
        "colab": {}
      },
      "source": [
        "# r=requests.get(url)\n",
        "\n",
        "# soup=BeautifulSoup(r.text,'html.parser')\n",
        "# soup\n",
        "\n",
        "# r.text\n",
        "\n",
        "# data=[]\n",
        "# data_iterator=iter(soup.find_all('dl'))\n",
        "\n",
        "# while True:\n",
        "#     try:\n",
        "#         d_1=next(data_iterator).text\n",
        "        \n",
        "#         data.append((\n",
        "#             d_1\n",
        "#         ))\n",
        "        \n",
        "#     except StopIteration:\n",
        "#         break\n",
        "        "
      ],
      "execution_count": null,
      "outputs": []
    },
    {
      "cell_type": "code",
      "metadata": {
        "collapsed": true,
        "id": "Zbiy8_M_o0LI",
        "colab_type": "code",
        "colab": {},
        "outputId": "303ebc77-c372-4dc6-e883-714a6bcdd7a5"
      },
      "source": [
        "data"
      ],
      "execution_count": null,
      "outputs": [
        {
          "output_type": "execute_result",
          "data": {
            "text/plain": [
              "['Greyhound (2020) [1080p] [WEBRip] [5.1] [YTS.MX] » video movie hd✔4 days1734 MB5,8892,416',\n",
              " 'The Old Guard (2020) [720p] [WEBRip] [YTS.MX] » video movie hd✔5 days1154 MB5,4412,620',\n",
              " 'The Old Guard (2020) [1080p] [WEBRip] [5.1] [YTS.MX] » video movie hd✔4 days2373 MB4,8492,719',\n",
              " 'Greyhound (2020) [720p] [WEBRip] [YTS.MX] » video movie hd✔5 days845 MB3,6501,204',\n",
              " 'Palm Springs (2020) [1080p] [WEBRip] [5.1] [YTS.MX] » video movie hd✔4 days1699 MB3,1021,375',\n",
              " 'Ghosts Of War (2020) [720p] [WEBRip] [YTS.MX] » video movie hd✔1 day874 MB1,409388',\n",
              " 'Ghosts Of War (2020) [1080p] [WEBRip] [YTS.MX] » video movie hd✔1 day1621 MB1,322487',\n",
              " 'Palm Springs (2020) [720p] [WEBRip] [YTS.MX] » video movie hd✔5 days827 MB2,5181,130',\n",
              " 'Arthur Merlin Knights Of Camelot (2020) [720p] [WEBRip] [YTS.MX] » video movie hd✔3 days832 MB1,076260',\n",
              " 'Archive (2020) [1080p] [WEBRip] [5.1] [YTS.MX] » video movie hd✔4 days2063 MB1,456388',\n",
              " 'Archive (2020) [720p] [WEBRip] [YTS.MX] » video movie hd✔4 days1003 MB1,366392',\n",
              " 'Arthur Merlin Knights Of Camelot (2020) [1080p] [WEBRip] [5.1] [YTS.MX] » video movie hd✔3 days1711 MB731146',\n",
              " 'Brave.New.World.S01E01.1080p.HEVC.x265-MeGusta[eztv.io].mkv » video tv✔19 hours327 MB51688',\n",
              " 'Condor.S02E07.WEB.x264-PIXELMASH[eztv.io].mkv » video tv✔1 day220 MB51888',\n",
              " 'Psych 2 Lassie Come Home (2020) [720p] [WEBRip] [YTS.MX] » video movie hd✔9 hours815 MB347395',\n",
              " 'The Night Clerk (2020) [720p] [BluRay] [YTS.MX] » video movie hd✔2 days829 MB479143',\n",
              " 'Greyhound.2020.720p.ATVP.WEBRip.800MB.x264-GalaxyRG[TGx] » video movie hd✔6 days796 MB2,632612',\n",
              " 'The Legend Of Muay Thai 9 Satra (2018) [720p] [WEBRip] [YTS.MX] » video movie hd✔10 hours973 MB303291',\n",
              " 'SPRD-1307.mp4 » video✔15 hours5490 MB284333',\n",
              " 'Coven (2020) [720p] [WEBRip] [YTS.MX] » video movie hd✔2 days740 MB341121',\n",
              " 'Useless Humans (2020) [720p] [WEBRip] [YTS.MX] » video movie hd✔2 days707 MB328155',\n",
              " 'Brave.New.World.US.S01E02.1080p.HEVC.x265-MeGusta[eztv.io].mkv » video tv✔19 hours327 MB28555',\n",
              " 'UFC.251.720p.HDTV.x264-VERUM[TGx] » video tv✔4 days5997 MB55951',\n",
              " 'Life On Us A Microscopic Safari (2014) [1080p] [WEBRip] [YTS.MX] » video movie hd✔19 hours1723 MB264114',\n",
              " 'SPRD-1309.mp4 » video✔15 hours5454 MB246276',\n",
              " 'Useless Humans (2020) [1080p] [WEBRip] [5.1] [YTS.MX] » video movie hd✔2 days1454 MB29188',\n",
              " 'Zombie For Sale (2019) [720p] [BluRay] [YTS.MX] » video movie hd✔2 days1029 MB28392',\n",
              " 'One Night (2012) [720p] [WEBRip] [YTS.MX] » video movie hd✔2 days654 MB273120',\n",
              " 'The Legend Of Muay Thai 9 Satra (2018) [1080p] [WEBRip] [5.1] [YTS.MX] » video movie hd✔9 hours2000 MB219190',\n",
              " 'Alpha Code (2020) [720p] [WEBRip] [YTS.MX] » video movie hd✔2 days895 MB277125',\n",
              " 'Greyhound.2020.1080p.ATVP.WEBRip.1400MB.DD5.1.x264-GalaxyRG[TGx] » video movie hd✔6 days1435 MB1,412274',\n",
              " 'Zombie For Sale (2019) [1080p] [BluRay] [5.1] [YTS.MX] » video movie hd✔2 days2114 MB26296',\n",
              " 'Wolf (2019) [720p] [BluRay] [YTS.MX] » video movie hd✔1 day782 MB213120',\n",
              " 'Life On Us A Microscopic Safari (2014) [720p] [WEBRip] [YTS.MX] » video movie hd✔21 hours928 MB207128',\n",
              " 'Latte The Magic Waterstone (2019) [720p] [WEBRip] [YTS.MX] » video movie hd✔3 days752 MB35974',\n",
              " 'Coven (2020) [1080p] [WEBRip] [5.1] [YTS.MX] » video movie hd✔2 days1521 MB23576',\n",
              " 'Alpha Code (2020) [1080p] [WEBRip] [5.1] [YTS.MX] » video movie hd✔2 days1839 MB22688',\n",
              " 'Race Against Pandemic (2020) [1080p] [WEBRip] [YTS.MX] » video movie hd✔9 hours814 MB181114',\n",
              " 'The Runners (2020) [720p] [WEBRip] [YTS.MX] » video movie hd✔5 days868 MB515160',\n",
              " 'Rising Free (2019) [1080p] [WEBRip] [5.1] [YTS.MX] » video movie hd✔1 day1911 MB20285',\n",
              " 'Rising Free (2019) [720p] [WEBRip] [YTS.MX] » video movie hd✔1 day930 MB19975',\n",
              " 'Race Against Pandemic (2020) [720p] [WEBRip] [YTS.MX] » video movie hd✔11 hours439 MB16681',\n",
              " 'One Night (2012) [1080p] [WEBRip] [YTS.MX] » video movie hd✔1 day1214 MB19651',\n",
              " '[HorribleSubs] Re Zero kara Hajimeru Isekai Seikatsu - 27 [1080p].mkv » video anime✔17 hours1489 MB2,245276',\n",
              " 'Battlefield 2025 (2020) [720p] [WEBRip] [YTS.MX] » video movie hd✔4 days772 MB310101',\n",
              " 'www.4MovieRulz.mx - Fck Buddies (2018) 720p S-01 Ep-[01-08] [Telugu+Tamil+Hindi] 650MB.mkv » video movie hd✔3 days662 MB24597',\n",
              " 'Secret Zoo (2020) [720p] [BluRay] [YTS.MX] » video movie hd✔4 days1084 MB31176',\n",
              " 'Latte The Magic Waterstone (2019) [1080p] [WEBRip] [5.1] [YTS.MX] » video movie hd✔3 days1546 MB29667',\n",
              " 'Killer Raccoons 2 Dark Christmas In The Dark (2020) [720p] [WEBRip] [YTS.MX] » video movie hd✔1 day878 MB18191',\n",
              " 'SPRD-1304.mp4 » video✔15 hours4704 MB154178']"
            ]
          },
          "metadata": {
            "tags": []
          },
          "execution_count": 20
        }
      ]
    },
    {
      "cell_type": "code",
      "metadata": {
        "id": "qvWGF8M9o0LV",
        "colab_type": "code",
        "colab": {}
      },
      "source": [
        "import pandas as pd\n",
        "x=pd.Series(data)\n",
        "\n",
        "def fun(x):\n",
        "    ss=re.sub(r\"\\[[^)]+\\]\", \"\", x)   # it will remove '[',']'\n",
        "    ss=re.sub(r'\\».+','',ss)  # it will remove unnecessary words\n",
        "    ss=re.sub(r'\\.',' ',ss)\n",
        "    ss=re.sub(r'\\-',' ',ss)\n",
        "    ss=ss.split()\n",
        "    ss=' '.join(ss)\n",
        "    return ss"
      ],
      "execution_count": null,
      "outputs": []
    },
    {
      "cell_type": "code",
      "metadata": {
        "id": "-Til8Cnao0Le",
        "colab_type": "code",
        "colab": {}
      },
      "source": [
        "data_list=x.apply(lambda y:fun(y))"
      ],
      "execution_count": null,
      "outputs": []
    },
    {
      "cell_type": "code",
      "metadata": {
        "id": "0iyWoYVoo0Ln",
        "colab_type": "code",
        "colab": {},
        "outputId": "a0646995-2944-49e1-f9f2-6ce69938cfaf"
      },
      "source": [
        "len(data),len(data_list)"
      ],
      "execution_count": null,
      "outputs": [
        {
          "output_type": "execute_result",
          "data": {
            "text/plain": [
              "(50, 50)"
            ]
          },
          "metadata": {
            "tags": []
          },
          "execution_count": 23
        }
      ]
    },
    {
      "cell_type": "code",
      "metadata": {
        "id": "eK-4mHBqo0Lx",
        "colab_type": "code",
        "colab": {}
      },
      "source": [
        "lst=list(data_list)"
      ],
      "execution_count": null,
      "outputs": []
    },
    {
      "cell_type": "code",
      "metadata": {
        "collapsed": true,
        "id": "1D21bwuWo0L6",
        "colab_type": "code",
        "colab": {},
        "outputId": "aa68e19a-56bd-42cb-8152-f7d38ab46c13"
      },
      "source": [
        "lst"
      ],
      "execution_count": null,
      "outputs": [
        {
          "output_type": "execute_result",
          "data": {
            "text/plain": [
              "['Greyhound (2020)',\n",
              " 'The Old Guard (2020)',\n",
              " 'The Old Guard (2020)',\n",
              " 'Greyhound (2020)',\n",
              " 'Palm Springs (2020)',\n",
              " 'Ghosts Of War (2020)',\n",
              " 'Ghosts Of War (2020)',\n",
              " 'Palm Springs (2020)',\n",
              " 'Arthur Merlin Knights Of Camelot (2020)',\n",
              " 'Archive (2020)',\n",
              " 'Archive (2020)',\n",
              " 'Arthur Merlin Knights Of Camelot (2020)',\n",
              " 'Brave New World S01E01 1080p HEVC x265 MeGusta mkv',\n",
              " 'Condor S02E07 WEB x264 PIXELMASH mkv',\n",
              " 'Psych 2 Lassie Come Home (2020)',\n",
              " 'The Night Clerk (2020)',\n",
              " 'Greyhound 2020 720p ATVP WEBRip 800MB x264 GalaxyRG',\n",
              " 'The Legend Of Muay Thai 9 Satra (2018)',\n",
              " 'SPRD 1307 mp4',\n",
              " 'Coven (2020)',\n",
              " 'Useless Humans (2020)',\n",
              " 'Brave New World US S01E02 1080p HEVC x265 MeGusta mkv',\n",
              " 'UFC 251 720p HDTV x264 VERUM',\n",
              " 'Life On Us A Microscopic Safari (2014)',\n",
              " 'SPRD 1309 mp4',\n",
              " 'Useless Humans (2020)',\n",
              " 'Zombie For Sale (2019)',\n",
              " 'One Night (2012)',\n",
              " 'The Legend Of Muay Thai 9 Satra (2018)',\n",
              " 'Alpha Code (2020)',\n",
              " 'Greyhound 2020 1080p ATVP WEBRip 1400MB DD5 1 x264 GalaxyRG',\n",
              " 'Zombie For Sale (2019)',\n",
              " 'Wolf (2019)',\n",
              " 'Life On Us A Microscopic Safari (2014)',\n",
              " 'Latte The Magic Waterstone (2019)',\n",
              " 'Coven (2020)',\n",
              " 'Alpha Code (2020)',\n",
              " 'Race Against Pandemic (2020)',\n",
              " 'The Runners (2020)',\n",
              " 'Rising Free (2019)',\n",
              " 'Rising Free (2019)',\n",
              " 'Race Against Pandemic (2020)',\n",
              " 'One Night (2012)',\n",
              " 'mkv',\n",
              " 'Battlefield 2025 (2020)',\n",
              " 'www 4MovieRulz mx Fck Buddies (2018) 720p S 01 Ep 650MB mkv',\n",
              " 'Secret Zoo (2020)',\n",
              " 'Latte The Magic Waterstone (2019)',\n",
              " 'Killer Raccoons 2 Dark Christmas In The Dark (2020)',\n",
              " 'SPRD 1304 mp4']"
            ]
          },
          "metadata": {
            "tags": []
          },
          "execution_count": 25
        }
      ]
    },
    {
      "cell_type": "markdown",
      "metadata": {
        "id": "oy2GF0hNo0MH",
        "colab_type": "text"
      },
      "source": [
        "#### Underprocess"
      ]
    },
    {
      "cell_type": "code",
      "metadata": {
        "id": "3IHhmJ9Go0MI",
        "colab_type": "code",
        "colab": {}
      },
      "source": [
        "# Remove Websites\n",
        "lst_main=[]\n",
        "for i in lst:\n",
        "    if 'www' in i:\n",
        "        lst_main.append(re.sub(r'^[\\w]+.[0-9A-Za-z]+.[\\w]+.','',i))\n",
        "#         print(re.sub(r'^[\\w]+.[0-9A-Za-z]+.[\\w]+.','',i))\n",
        "    else:\n",
        "        lst_main.append(i)\n",
        "#         print(i)"
      ],
      "execution_count": null,
      "outputs": []
    },
    {
      "cell_type": "code",
      "metadata": {
        "id": "6cn1Ayf0o0MW",
        "colab_type": "code",
        "colab": {}
      },
      "source": [
        "# First Labelling Season \n",
        "lst_2=[]\n",
        "for i in lst_main:\n",
        "    if len(re.findall(r'[S|s][0-9][E|e0-9]+',i))==1:\n",
        "        lst_2.append('Season')\n",
        "#         print('Season')\n",
        "    else:\n",
        "        lst_2.append(i)\n",
        "#         print(i)"
      ],
      "execution_count": null,
      "outputs": []
    },
    {
      "cell_type": "code",
      "metadata": {
        "id": "xPmVmpO5o0Mg",
        "colab_type": "code",
        "colab": {}
      },
      "source": [
        "# Second Cleaning\n",
        "lst_3=[]\n",
        "for i in lst_2:\n",
        "    if len(re.sub(r'\\d{3,4}p.+','',i))>0:\n",
        "        lst_3.append(re.sub(r'\\d{3,4}p.+','',i))\n",
        "#         print(re.sub(r'\\d{3,4}p.+','',i))\n",
        "    else:\n",
        "        lst_3.append(i)\n",
        "#         print(i)   "
      ],
      "execution_count": null,
      "outputs": []
    },
    {
      "cell_type": "markdown",
      "metadata": {
        "id": "4-4ZhLxro0Mq",
        "colab_type": "text"
      },
      "source": [
        "### Try parallel processing"
      ]
    },
    {
      "cell_type": "code",
      "metadata": {
        "id": "TdYjUn-ro0Ms",
        "colab_type": "code",
        "colab": {}
      },
      "source": [
        "def fun_2(a):\n",
        "    if len(str(a))==2:\n",
        "        return 'None'\n",
        "    else:\n",
        "        return a[0]"
      ],
      "execution_count": null,
      "outputs": []
    },
    {
      "cell_type": "code",
      "metadata": {
        "id": "HJnYufEyo0M2",
        "colab_type": "code",
        "colab": {}
      },
      "source": [
        "l=['the','for','of','and']       # stop words\n",
        "def fu(i):\n",
        "    ll=re.sub(r'\\s\\(\\d+\\)|\\s\\d{4}','',i).split()\n",
        "    ss=[]\n",
        "    for i in range(len(ll)):\n",
        "        if ll[i].lower() =='of' and i!=0 and i!=len(ll)-1:\n",
        "            ss.append(ll[i].lower())\n",
        "        elif ll[i].lower() =='for' and i!=0 and i!=len(ll)-1:\n",
        "            ss.append(ll[i].lower())\n",
        "        elif ll[i].lower() =='the' and i!=0 and i!=len(ll)-1:\n",
        "            ss.append(ll[i].lower())\n",
        "        elif ll[i].lower() =='and' and i!=0 and i!=len(ll)-1:\n",
        "            ss.append(ll[i].lower())\n",
        "        else:\n",
        "            ss.append(ll[i])\n",
        "    return ss"
      ],
      "execution_count": null,
      "outputs": []
    },
    {
      "cell_type": "code",
      "metadata": {
        "id": "m-xEnCi0o0M9",
        "colab_type": "code",
        "colab": {}
      },
      "source": [
        "# Create Links and Rating\n",
        "def fun(i):\n",
        "    nam=i.split()\n",
        "    name='+'.join(nam)\n",
        "    create_link='https://www.imdb.com/find?q='+name+'&ref_=nv_sr_sm#tt'\n",
        "    r=requests.get(create_link,verify = False)\n",
        "    soup=BeautifulSoup(r.text,'html.parser')\n",
        "    t=fu(i)\n",
        "    text=' '.join(t)\n",
        "    a=soup.find_all(href=True,text=text)\n",
        "    s=fun_2(a)\n",
        "    \n",
        "    if s=='None':\n",
        "        return 'None'\n",
        "    else: \n",
        "        # Converting to imdb link\n",
        "        imdb_link='https://www.imdb.com'+str(s).split('\"')[1]\n",
        "        r=requests.get(imdb_link,verify = False)\n",
        "        soup=BeautifulSoup(r.text,'html.parser')\n",
        "        try:\n",
        "            if len(soup.find('strong').text)>4:\n",
        "                return '0.0'\n",
        "            else:\n",
        "                return soup.find('strong').text\n",
        "        except:\n",
        "            return '0.0'\n"
      ],
      "execution_count": null,
      "outputs": []
    },
    {
      "cell_type": "code",
      "metadata": {
        "id": "PYpK1znvo0NE",
        "colab_type": "code",
        "colab": {},
        "outputId": "4985a05a-daf7-4551-f95e-2880c252231c"
      },
      "source": [
        "# def cat(z):   #z=fun(i)\n",
        "#     try:\n",
        "#         if \n",
        "#         print(float(z))\n",
        "#     except:\n",
        "#         print(\"Not Rated\")\n",
        "# fun(lst_3[26])"
      ],
      "execution_count": null,
      "outputs": [
        {
          "output_type": "stream",
          "text": [
            "/home/anil/anaconda3/lib/python3.7/site-packages/urllib3/connectionpool.py:847: InsecureRequestWarning: Unverified HTTPS request is being made. Adding certificate verification is strongly advised. See: https://urllib3.readthedocs.io/en/latest/advanced-usage.html#ssl-warnings\n",
            "  InsecureRequestWarning)\n"
          ],
          "name": "stderr"
        },
        {
          "output_type": "execute_result",
          "data": {
            "text/plain": [
              "'None'"
            ]
          },
          "metadata": {
            "tags": []
          },
          "execution_count": 32
        }
      ]
    },
    {
      "cell_type": "code",
      "metadata": {
        "id": "IPLR97azo0NO",
        "colab_type": "code",
        "colab": {}
      },
      "source": [
        ""
      ],
      "execution_count": null,
      "outputs": []
    },
    {
      "cell_type": "code",
      "metadata": {
        "id": "wcpqY75no0NU",
        "colab_type": "code",
        "colab": {},
        "outputId": "62abe160-4772-4528-e009-2adeddfaa3c6"
      },
      "source": [
        "rating=[]\n",
        "for i in lst_3:\n",
        "#     z=fun(i)\n",
        "    ss=i+';'+fun(i)\n",
        "    rating.append(ss)\n",
        "    print(ss)"
      ],
      "execution_count": null,
      "outputs": [
        {
          "output_type": "stream",
          "text": [
            "/home/anil/anaconda3/lib/python3.7/site-packages/urllib3/connectionpool.py:847: InsecureRequestWarning: Unverified HTTPS request is being made. Adding certificate verification is strongly advised. See: https://urllib3.readthedocs.io/en/latest/advanced-usage.html#ssl-warnings\n",
            "  InsecureRequestWarning)\n",
            "/home/anil/anaconda3/lib/python3.7/site-packages/urllib3/connectionpool.py:847: InsecureRequestWarning: Unverified HTTPS request is being made. Adding certificate verification is strongly advised. See: https://urllib3.readthedocs.io/en/latest/advanced-usage.html#ssl-warnings\n",
            "  InsecureRequestWarning)\n"
          ],
          "name": "stderr"
        },
        {
          "output_type": "stream",
          "text": [
            "Greyhound (2020);7.1\n"
          ],
          "name": "stdout"
        },
        {
          "output_type": "stream",
          "text": [
            "/home/anil/anaconda3/lib/python3.7/site-packages/urllib3/connectionpool.py:847: InsecureRequestWarning: Unverified HTTPS request is being made. Adding certificate verification is strongly advised. See: https://urllib3.readthedocs.io/en/latest/advanced-usage.html#ssl-warnings\n",
            "  InsecureRequestWarning)\n",
            "/home/anil/anaconda3/lib/python3.7/site-packages/urllib3/connectionpool.py:847: InsecureRequestWarning: Unverified HTTPS request is being made. Adding certificate verification is strongly advised. See: https://urllib3.readthedocs.io/en/latest/advanced-usage.html#ssl-warnings\n",
            "  InsecureRequestWarning)\n"
          ],
          "name": "stderr"
        },
        {
          "output_type": "stream",
          "text": [
            "The Old Guard (2020);6.7\n"
          ],
          "name": "stdout"
        },
        {
          "output_type": "stream",
          "text": [
            "/home/anil/anaconda3/lib/python3.7/site-packages/urllib3/connectionpool.py:847: InsecureRequestWarning: Unverified HTTPS request is being made. Adding certificate verification is strongly advised. See: https://urllib3.readthedocs.io/en/latest/advanced-usage.html#ssl-warnings\n",
            "  InsecureRequestWarning)\n",
            "/home/anil/anaconda3/lib/python3.7/site-packages/urllib3/connectionpool.py:847: InsecureRequestWarning: Unverified HTTPS request is being made. Adding certificate verification is strongly advised. See: https://urllib3.readthedocs.io/en/latest/advanced-usage.html#ssl-warnings\n",
            "  InsecureRequestWarning)\n"
          ],
          "name": "stderr"
        },
        {
          "output_type": "stream",
          "text": [
            "The Old Guard (2020);6.7\n"
          ],
          "name": "stdout"
        },
        {
          "output_type": "stream",
          "text": [
            "/home/anil/anaconda3/lib/python3.7/site-packages/urllib3/connectionpool.py:847: InsecureRequestWarning: Unverified HTTPS request is being made. Adding certificate verification is strongly advised. See: https://urllib3.readthedocs.io/en/latest/advanced-usage.html#ssl-warnings\n",
            "  InsecureRequestWarning)\n",
            "/home/anil/anaconda3/lib/python3.7/site-packages/urllib3/connectionpool.py:847: InsecureRequestWarning: Unverified HTTPS request is being made. Adding certificate verification is strongly advised. See: https://urllib3.readthedocs.io/en/latest/advanced-usage.html#ssl-warnings\n",
            "  InsecureRequestWarning)\n"
          ],
          "name": "stderr"
        },
        {
          "output_type": "stream",
          "text": [
            "Greyhound (2020);7.1\n"
          ],
          "name": "stdout"
        },
        {
          "output_type": "stream",
          "text": [
            "/home/anil/anaconda3/lib/python3.7/site-packages/urllib3/connectionpool.py:847: InsecureRequestWarning: Unverified HTTPS request is being made. Adding certificate verification is strongly advised. See: https://urllib3.readthedocs.io/en/latest/advanced-usage.html#ssl-warnings\n",
            "  InsecureRequestWarning)\n",
            "/home/anil/anaconda3/lib/python3.7/site-packages/urllib3/connectionpool.py:847: InsecureRequestWarning: Unverified HTTPS request is being made. Adding certificate verification is strongly advised. See: https://urllib3.readthedocs.io/en/latest/advanced-usage.html#ssl-warnings\n",
            "  InsecureRequestWarning)\n"
          ],
          "name": "stderr"
        },
        {
          "output_type": "stream",
          "text": [
            "Palm Springs (2020);7.6\n"
          ],
          "name": "stdout"
        },
        {
          "output_type": "stream",
          "text": [
            "/home/anil/anaconda3/lib/python3.7/site-packages/urllib3/connectionpool.py:847: InsecureRequestWarning: Unverified HTTPS request is being made. Adding certificate verification is strongly advised. See: https://urllib3.readthedocs.io/en/latest/advanced-usage.html#ssl-warnings\n",
            "  InsecureRequestWarning)\n",
            "/home/anil/anaconda3/lib/python3.7/site-packages/urllib3/connectionpool.py:847: InsecureRequestWarning: Unverified HTTPS request is being made. Adding certificate verification is strongly advised. See: https://urllib3.readthedocs.io/en/latest/advanced-usage.html#ssl-warnings\n",
            "  InsecureRequestWarning)\n"
          ],
          "name": "stderr"
        },
        {
          "output_type": "stream",
          "text": [
            "Ghosts Of War (2020);0.0\n"
          ],
          "name": "stdout"
        },
        {
          "output_type": "stream",
          "text": [
            "/home/anil/anaconda3/lib/python3.7/site-packages/urllib3/connectionpool.py:847: InsecureRequestWarning: Unverified HTTPS request is being made. Adding certificate verification is strongly advised. See: https://urllib3.readthedocs.io/en/latest/advanced-usage.html#ssl-warnings\n",
            "  InsecureRequestWarning)\n",
            "/home/anil/anaconda3/lib/python3.7/site-packages/urllib3/connectionpool.py:847: InsecureRequestWarning: Unverified HTTPS request is being made. Adding certificate verification is strongly advised. See: https://urllib3.readthedocs.io/en/latest/advanced-usage.html#ssl-warnings\n",
            "  InsecureRequestWarning)\n"
          ],
          "name": "stderr"
        },
        {
          "output_type": "stream",
          "text": [
            "Ghosts Of War (2020);0.0\n"
          ],
          "name": "stdout"
        },
        {
          "output_type": "stream",
          "text": [
            "/home/anil/anaconda3/lib/python3.7/site-packages/urllib3/connectionpool.py:847: InsecureRequestWarning: Unverified HTTPS request is being made. Adding certificate verification is strongly advised. See: https://urllib3.readthedocs.io/en/latest/advanced-usage.html#ssl-warnings\n",
            "  InsecureRequestWarning)\n",
            "/home/anil/anaconda3/lib/python3.7/site-packages/urllib3/connectionpool.py:847: InsecureRequestWarning: Unverified HTTPS request is being made. Adding certificate verification is strongly advised. See: https://urllib3.readthedocs.io/en/latest/advanced-usage.html#ssl-warnings\n",
            "  InsecureRequestWarning)\n"
          ],
          "name": "stderr"
        },
        {
          "output_type": "stream",
          "text": [
            "Palm Springs (2020);7.6\n"
          ],
          "name": "stdout"
        },
        {
          "output_type": "stream",
          "text": [
            "/home/anil/anaconda3/lib/python3.7/site-packages/urllib3/connectionpool.py:847: InsecureRequestWarning: Unverified HTTPS request is being made. Adding certificate verification is strongly advised. See: https://urllib3.readthedocs.io/en/latest/advanced-usage.html#ssl-warnings\n",
            "  InsecureRequestWarning)\n"
          ],
          "name": "stderr"
        },
        {
          "output_type": "stream",
          "text": [
            "Arthur Merlin Knights Of Camelot (2020);None\n"
          ],
          "name": "stdout"
        },
        {
          "output_type": "stream",
          "text": [
            "/home/anil/anaconda3/lib/python3.7/site-packages/urllib3/connectionpool.py:847: InsecureRequestWarning: Unverified HTTPS request is being made. Adding certificate verification is strongly advised. See: https://urllib3.readthedocs.io/en/latest/advanced-usage.html#ssl-warnings\n",
            "  InsecureRequestWarning)\n",
            "/home/anil/anaconda3/lib/python3.7/site-packages/urllib3/connectionpool.py:847: InsecureRequestWarning: Unverified HTTPS request is being made. Adding certificate verification is strongly advised. See: https://urllib3.readthedocs.io/en/latest/advanced-usage.html#ssl-warnings\n",
            "  InsecureRequestWarning)\n"
          ],
          "name": "stderr"
        },
        {
          "output_type": "stream",
          "text": [
            "Archive (2020);6.3\n"
          ],
          "name": "stdout"
        },
        {
          "output_type": "stream",
          "text": [
            "/home/anil/anaconda3/lib/python3.7/site-packages/urllib3/connectionpool.py:847: InsecureRequestWarning: Unverified HTTPS request is being made. Adding certificate verification is strongly advised. See: https://urllib3.readthedocs.io/en/latest/advanced-usage.html#ssl-warnings\n",
            "  InsecureRequestWarning)\n",
            "/home/anil/anaconda3/lib/python3.7/site-packages/urllib3/connectionpool.py:847: InsecureRequestWarning: Unverified HTTPS request is being made. Adding certificate verification is strongly advised. See: https://urllib3.readthedocs.io/en/latest/advanced-usage.html#ssl-warnings\n",
            "  InsecureRequestWarning)\n"
          ],
          "name": "stderr"
        },
        {
          "output_type": "stream",
          "text": [
            "Archive (2020);6.3\n"
          ],
          "name": "stdout"
        },
        {
          "output_type": "stream",
          "text": [
            "/home/anil/anaconda3/lib/python3.7/site-packages/urllib3/connectionpool.py:847: InsecureRequestWarning: Unverified HTTPS request is being made. Adding certificate verification is strongly advised. See: https://urllib3.readthedocs.io/en/latest/advanced-usage.html#ssl-warnings\n",
            "  InsecureRequestWarning)\n"
          ],
          "name": "stderr"
        },
        {
          "output_type": "stream",
          "text": [
            "Arthur Merlin Knights Of Camelot (2020);None\n"
          ],
          "name": "stdout"
        },
        {
          "output_type": "stream",
          "text": [
            "/home/anil/anaconda3/lib/python3.7/site-packages/urllib3/connectionpool.py:847: InsecureRequestWarning: Unverified HTTPS request is being made. Adding certificate verification is strongly advised. See: https://urllib3.readthedocs.io/en/latest/advanced-usage.html#ssl-warnings\n",
            "  InsecureRequestWarning)\n",
            "/home/anil/anaconda3/lib/python3.7/site-packages/urllib3/connectionpool.py:847: InsecureRequestWarning: Unverified HTTPS request is being made. Adding certificate verification is strongly advised. See: https://urllib3.readthedocs.io/en/latest/advanced-usage.html#ssl-warnings\n",
            "  InsecureRequestWarning)\n"
          ],
          "name": "stderr"
        },
        {
          "output_type": "stream",
          "text": [
            "Season;7.4\n"
          ],
          "name": "stdout"
        },
        {
          "output_type": "stream",
          "text": [
            "/home/anil/anaconda3/lib/python3.7/site-packages/urllib3/connectionpool.py:847: InsecureRequestWarning: Unverified HTTPS request is being made. Adding certificate verification is strongly advised. See: https://urllib3.readthedocs.io/en/latest/advanced-usage.html#ssl-warnings\n",
            "  InsecureRequestWarning)\n",
            "/home/anil/anaconda3/lib/python3.7/site-packages/urllib3/connectionpool.py:847: InsecureRequestWarning: Unverified HTTPS request is being made. Adding certificate verification is strongly advised. See: https://urllib3.readthedocs.io/en/latest/advanced-usage.html#ssl-warnings\n",
            "  InsecureRequestWarning)\n"
          ],
          "name": "stderr"
        },
        {
          "output_type": "stream",
          "text": [
            "Season;7.4\n"
          ],
          "name": "stdout"
        },
        {
          "output_type": "stream",
          "text": [
            "/home/anil/anaconda3/lib/python3.7/site-packages/urllib3/connectionpool.py:847: InsecureRequestWarning: Unverified HTTPS request is being made. Adding certificate verification is strongly advised. See: https://urllib3.readthedocs.io/en/latest/advanced-usage.html#ssl-warnings\n",
            "  InsecureRequestWarning)\n"
          ],
          "name": "stderr"
        },
        {
          "output_type": "stream",
          "text": [
            "Psych 2 Lassie Come Home (2020);None\n"
          ],
          "name": "stdout"
        },
        {
          "output_type": "stream",
          "text": [
            "/home/anil/anaconda3/lib/python3.7/site-packages/urllib3/connectionpool.py:847: InsecureRequestWarning: Unverified HTTPS request is being made. Adding certificate verification is strongly advised. See: https://urllib3.readthedocs.io/en/latest/advanced-usage.html#ssl-warnings\n",
            "  InsecureRequestWarning)\n",
            "/home/anil/anaconda3/lib/python3.7/site-packages/urllib3/connectionpool.py:847: InsecureRequestWarning: Unverified HTTPS request is being made. Adding certificate verification is strongly advised. See: https://urllib3.readthedocs.io/en/latest/advanced-usage.html#ssl-warnings\n",
            "  InsecureRequestWarning)\n"
          ],
          "name": "stderr"
        },
        {
          "output_type": "stream",
          "text": [
            "The Night Clerk (2020);5.4\n"
          ],
          "name": "stdout"
        },
        {
          "output_type": "stream",
          "text": [
            "/home/anil/anaconda3/lib/python3.7/site-packages/urllib3/connectionpool.py:847: InsecureRequestWarning: Unverified HTTPS request is being made. Adding certificate verification is strongly advised. See: https://urllib3.readthedocs.io/en/latest/advanced-usage.html#ssl-warnings\n",
            "  InsecureRequestWarning)\n",
            "/home/anil/anaconda3/lib/python3.7/site-packages/urllib3/connectionpool.py:847: InsecureRequestWarning: Unverified HTTPS request is being made. Adding certificate verification is strongly advised. See: https://urllib3.readthedocs.io/en/latest/advanced-usage.html#ssl-warnings\n",
            "  InsecureRequestWarning)\n"
          ],
          "name": "stderr"
        },
        {
          "output_type": "stream",
          "text": [
            "Greyhound 2020 ;7.1\n"
          ],
          "name": "stdout"
        },
        {
          "output_type": "stream",
          "text": [
            "/home/anil/anaconda3/lib/python3.7/site-packages/urllib3/connectionpool.py:847: InsecureRequestWarning: Unverified HTTPS request is being made. Adding certificate verification is strongly advised. See: https://urllib3.readthedocs.io/en/latest/advanced-usage.html#ssl-warnings\n",
            "  InsecureRequestWarning)\n"
          ],
          "name": "stderr"
        },
        {
          "output_type": "stream",
          "text": [
            "The Legend Of Muay Thai 9 Satra (2018);None\n"
          ],
          "name": "stdout"
        },
        {
          "output_type": "stream",
          "text": [
            "/home/anil/anaconda3/lib/python3.7/site-packages/urllib3/connectionpool.py:847: InsecureRequestWarning: Unverified HTTPS request is being made. Adding certificate verification is strongly advised. See: https://urllib3.readthedocs.io/en/latest/advanced-usage.html#ssl-warnings\n",
            "  InsecureRequestWarning)\n"
          ],
          "name": "stderr"
        },
        {
          "output_type": "stream",
          "text": [
            "SPRD 1307 mp4;None\n"
          ],
          "name": "stdout"
        },
        {
          "output_type": "stream",
          "text": [
            "/home/anil/anaconda3/lib/python3.7/site-packages/urllib3/connectionpool.py:847: InsecureRequestWarning: Unverified HTTPS request is being made. Adding certificate verification is strongly advised. See: https://urllib3.readthedocs.io/en/latest/advanced-usage.html#ssl-warnings\n",
            "  InsecureRequestWarning)\n",
            "/home/anil/anaconda3/lib/python3.7/site-packages/urllib3/connectionpool.py:847: InsecureRequestWarning: Unverified HTTPS request is being made. Adding certificate verification is strongly advised. See: https://urllib3.readthedocs.io/en/latest/advanced-usage.html#ssl-warnings\n",
            "  InsecureRequestWarning)\n"
          ],
          "name": "stderr"
        },
        {
          "output_type": "stream",
          "text": [
            "Coven (2020);3.0\n"
          ],
          "name": "stdout"
        },
        {
          "output_type": "stream",
          "text": [
            "/home/anil/anaconda3/lib/python3.7/site-packages/urllib3/connectionpool.py:847: InsecureRequestWarning: Unverified HTTPS request is being made. Adding certificate verification is strongly advised. See: https://urllib3.readthedocs.io/en/latest/advanced-usage.html#ssl-warnings\n",
            "  InsecureRequestWarning)\n",
            "/home/anil/anaconda3/lib/python3.7/site-packages/urllib3/connectionpool.py:847: InsecureRequestWarning: Unverified HTTPS request is being made. Adding certificate verification is strongly advised. See: https://urllib3.readthedocs.io/en/latest/advanced-usage.html#ssl-warnings\n",
            "  InsecureRequestWarning)\n"
          ],
          "name": "stderr"
        },
        {
          "output_type": "stream",
          "text": [
            "Useless Humans (2020);5.1\n"
          ],
          "name": "stdout"
        },
        {
          "output_type": "stream",
          "text": [
            "/home/anil/anaconda3/lib/python3.7/site-packages/urllib3/connectionpool.py:847: InsecureRequestWarning: Unverified HTTPS request is being made. Adding certificate verification is strongly advised. See: https://urllib3.readthedocs.io/en/latest/advanced-usage.html#ssl-warnings\n",
            "  InsecureRequestWarning)\n",
            "/home/anil/anaconda3/lib/python3.7/site-packages/urllib3/connectionpool.py:847: InsecureRequestWarning: Unverified HTTPS request is being made. Adding certificate verification is strongly advised. See: https://urllib3.readthedocs.io/en/latest/advanced-usage.html#ssl-warnings\n",
            "  InsecureRequestWarning)\n"
          ],
          "name": "stderr"
        },
        {
          "output_type": "stream",
          "text": [
            "Season;7.4\n"
          ],
          "name": "stdout"
        },
        {
          "output_type": "stream",
          "text": [
            "/home/anil/anaconda3/lib/python3.7/site-packages/urllib3/connectionpool.py:847: InsecureRequestWarning: Unverified HTTPS request is being made. Adding certificate verification is strongly advised. See: https://urllib3.readthedocs.io/en/latest/advanced-usage.html#ssl-warnings\n",
            "  InsecureRequestWarning)\n"
          ],
          "name": "stderr"
        },
        {
          "output_type": "stream",
          "text": [
            "UFC 251 ;None\n"
          ],
          "name": "stdout"
        },
        {
          "output_type": "stream",
          "text": [
            "/home/anil/anaconda3/lib/python3.7/site-packages/urllib3/connectionpool.py:847: InsecureRequestWarning: Unverified HTTPS request is being made. Adding certificate verification is strongly advised. See: https://urllib3.readthedocs.io/en/latest/advanced-usage.html#ssl-warnings\n",
            "  InsecureRequestWarning)\n"
          ],
          "name": "stderr"
        },
        {
          "output_type": "stream",
          "text": [
            "Life On Us A Microscopic Safari (2014);None\n"
          ],
          "name": "stdout"
        },
        {
          "output_type": "stream",
          "text": [
            "/home/anil/anaconda3/lib/python3.7/site-packages/urllib3/connectionpool.py:847: InsecureRequestWarning: Unverified HTTPS request is being made. Adding certificate verification is strongly advised. See: https://urllib3.readthedocs.io/en/latest/advanced-usage.html#ssl-warnings\n",
            "  InsecureRequestWarning)\n"
          ],
          "name": "stderr"
        },
        {
          "output_type": "stream",
          "text": [
            "SPRD 1309 mp4;None\n"
          ],
          "name": "stdout"
        },
        {
          "output_type": "stream",
          "text": [
            "/home/anil/anaconda3/lib/python3.7/site-packages/urllib3/connectionpool.py:847: InsecureRequestWarning: Unverified HTTPS request is being made. Adding certificate verification is strongly advised. See: https://urllib3.readthedocs.io/en/latest/advanced-usage.html#ssl-warnings\n",
            "  InsecureRequestWarning)\n",
            "/home/anil/anaconda3/lib/python3.7/site-packages/urllib3/connectionpool.py:847: InsecureRequestWarning: Unverified HTTPS request is being made. Adding certificate verification is strongly advised. See: https://urllib3.readthedocs.io/en/latest/advanced-usage.html#ssl-warnings\n",
            "  InsecureRequestWarning)\n"
          ],
          "name": "stderr"
        },
        {
          "output_type": "stream",
          "text": [
            "Useless Humans (2020);5.1\n"
          ],
          "name": "stdout"
        },
        {
          "output_type": "stream",
          "text": [
            "/home/anil/anaconda3/lib/python3.7/site-packages/urllib3/connectionpool.py:847: InsecureRequestWarning: Unverified HTTPS request is being made. Adding certificate verification is strongly advised. See: https://urllib3.readthedocs.io/en/latest/advanced-usage.html#ssl-warnings\n",
            "  InsecureRequestWarning)\n"
          ],
          "name": "stderr"
        },
        {
          "output_type": "stream",
          "text": [
            "Zombie For Sale (2019);None\n"
          ],
          "name": "stdout"
        },
        {
          "output_type": "stream",
          "text": [
            "/home/anil/anaconda3/lib/python3.7/site-packages/urllib3/connectionpool.py:847: InsecureRequestWarning: Unverified HTTPS request is being made. Adding certificate verification is strongly advised. See: https://urllib3.readthedocs.io/en/latest/advanced-usage.html#ssl-warnings\n",
            "  InsecureRequestWarning)\n",
            "/home/anil/anaconda3/lib/python3.7/site-packages/urllib3/connectionpool.py:847: InsecureRequestWarning: Unverified HTTPS request is being made. Adding certificate verification is strongly advised. See: https://urllib3.readthedocs.io/en/latest/advanced-usage.html#ssl-warnings\n",
            "  InsecureRequestWarning)\n"
          ],
          "name": "stderr"
        },
        {
          "output_type": "stream",
          "text": [
            "One Night (2012);5.9\n"
          ],
          "name": "stdout"
        },
        {
          "output_type": "stream",
          "text": [
            "/home/anil/anaconda3/lib/python3.7/site-packages/urllib3/connectionpool.py:847: InsecureRequestWarning: Unverified HTTPS request is being made. Adding certificate verification is strongly advised. See: https://urllib3.readthedocs.io/en/latest/advanced-usage.html#ssl-warnings\n",
            "  InsecureRequestWarning)\n"
          ],
          "name": "stderr"
        },
        {
          "output_type": "stream",
          "text": [
            "The Legend Of Muay Thai 9 Satra (2018);None\n"
          ],
          "name": "stdout"
        },
        {
          "output_type": "stream",
          "text": [
            "/home/anil/anaconda3/lib/python3.7/site-packages/urllib3/connectionpool.py:847: InsecureRequestWarning: Unverified HTTPS request is being made. Adding certificate verification is strongly advised. See: https://urllib3.readthedocs.io/en/latest/advanced-usage.html#ssl-warnings\n",
            "  InsecureRequestWarning)\n",
            "/home/anil/anaconda3/lib/python3.7/site-packages/urllib3/connectionpool.py:847: InsecureRequestWarning: Unverified HTTPS request is being made. Adding certificate verification is strongly advised. See: https://urllib3.readthedocs.io/en/latest/advanced-usage.html#ssl-warnings\n",
            "  InsecureRequestWarning)\n"
          ],
          "name": "stderr"
        },
        {
          "output_type": "stream",
          "text": [
            "Alpha Code (2020);3.4\n"
          ],
          "name": "stdout"
        },
        {
          "output_type": "stream",
          "text": [
            "/home/anil/anaconda3/lib/python3.7/site-packages/urllib3/connectionpool.py:847: InsecureRequestWarning: Unverified HTTPS request is being made. Adding certificate verification is strongly advised. See: https://urllib3.readthedocs.io/en/latest/advanced-usage.html#ssl-warnings\n",
            "  InsecureRequestWarning)\n",
            "/home/anil/anaconda3/lib/python3.7/site-packages/urllib3/connectionpool.py:847: InsecureRequestWarning: Unverified HTTPS request is being made. Adding certificate verification is strongly advised. See: https://urllib3.readthedocs.io/en/latest/advanced-usage.html#ssl-warnings\n",
            "  InsecureRequestWarning)\n"
          ],
          "name": "stderr"
        },
        {
          "output_type": "stream",
          "text": [
            "Greyhound 2020 ;7.1\n"
          ],
          "name": "stdout"
        },
        {
          "output_type": "stream",
          "text": [
            "/home/anil/anaconda3/lib/python3.7/site-packages/urllib3/connectionpool.py:847: InsecureRequestWarning: Unverified HTTPS request is being made. Adding certificate verification is strongly advised. See: https://urllib3.readthedocs.io/en/latest/advanced-usage.html#ssl-warnings\n",
            "  InsecureRequestWarning)\n"
          ],
          "name": "stderr"
        },
        {
          "output_type": "stream",
          "text": [
            "Zombie For Sale (2019);None\n"
          ],
          "name": "stdout"
        },
        {
          "output_type": "stream",
          "text": [
            "/home/anil/anaconda3/lib/python3.7/site-packages/urllib3/connectionpool.py:847: InsecureRequestWarning: Unverified HTTPS request is being made. Adding certificate verification is strongly advised. See: https://urllib3.readthedocs.io/en/latest/advanced-usage.html#ssl-warnings\n",
            "  InsecureRequestWarning)\n",
            "/home/anil/anaconda3/lib/python3.7/site-packages/urllib3/connectionpool.py:847: InsecureRequestWarning: Unverified HTTPS request is being made. Adding certificate verification is strongly advised. See: https://urllib3.readthedocs.io/en/latest/advanced-usage.html#ssl-warnings\n",
            "  InsecureRequestWarning)\n"
          ],
          "name": "stderr"
        },
        {
          "output_type": "stream",
          "text": [
            "Wolf (2019);5.2\n"
          ],
          "name": "stdout"
        },
        {
          "output_type": "stream",
          "text": [
            "/home/anil/anaconda3/lib/python3.7/site-packages/urllib3/connectionpool.py:847: InsecureRequestWarning: Unverified HTTPS request is being made. Adding certificate verification is strongly advised. See: https://urllib3.readthedocs.io/en/latest/advanced-usage.html#ssl-warnings\n",
            "  InsecureRequestWarning)\n"
          ],
          "name": "stderr"
        },
        {
          "output_type": "stream",
          "text": [
            "Life On Us A Microscopic Safari (2014);None\n"
          ],
          "name": "stdout"
        },
        {
          "output_type": "stream",
          "text": [
            "/home/anil/anaconda3/lib/python3.7/site-packages/urllib3/connectionpool.py:847: InsecureRequestWarning: Unverified HTTPS request is being made. Adding certificate verification is strongly advised. See: https://urllib3.readthedocs.io/en/latest/advanced-usage.html#ssl-warnings\n",
            "  InsecureRequestWarning)\n"
          ],
          "name": "stderr"
        },
        {
          "output_type": "stream",
          "text": [
            "Latte The Magic Waterstone (2019);None\n"
          ],
          "name": "stdout"
        },
        {
          "output_type": "stream",
          "text": [
            "/home/anil/anaconda3/lib/python3.7/site-packages/urllib3/connectionpool.py:847: InsecureRequestWarning: Unverified HTTPS request is being made. Adding certificate verification is strongly advised. See: https://urllib3.readthedocs.io/en/latest/advanced-usage.html#ssl-warnings\n",
            "  InsecureRequestWarning)\n",
            "/home/anil/anaconda3/lib/python3.7/site-packages/urllib3/connectionpool.py:847: InsecureRequestWarning: Unverified HTTPS request is being made. Adding certificate verification is strongly advised. See: https://urllib3.readthedocs.io/en/latest/advanced-usage.html#ssl-warnings\n",
            "  InsecureRequestWarning)\n"
          ],
          "name": "stderr"
        },
        {
          "output_type": "stream",
          "text": [
            "Coven (2020);3.0\n"
          ],
          "name": "stdout"
        },
        {
          "output_type": "stream",
          "text": [
            "/home/anil/anaconda3/lib/python3.7/site-packages/urllib3/connectionpool.py:847: InsecureRequestWarning: Unverified HTTPS request is being made. Adding certificate verification is strongly advised. See: https://urllib3.readthedocs.io/en/latest/advanced-usage.html#ssl-warnings\n",
            "  InsecureRequestWarning)\n",
            "/home/anil/anaconda3/lib/python3.7/site-packages/urllib3/connectionpool.py:847: InsecureRequestWarning: Unverified HTTPS request is being made. Adding certificate verification is strongly advised. See: https://urllib3.readthedocs.io/en/latest/advanced-usage.html#ssl-warnings\n",
            "  InsecureRequestWarning)\n"
          ],
          "name": "stderr"
        },
        {
          "output_type": "stream",
          "text": [
            "Alpha Code (2020);3.4\n"
          ],
          "name": "stdout"
        },
        {
          "output_type": "stream",
          "text": [
            "/home/anil/anaconda3/lib/python3.7/site-packages/urllib3/connectionpool.py:847: InsecureRequestWarning: Unverified HTTPS request is being made. Adding certificate verification is strongly advised. See: https://urllib3.readthedocs.io/en/latest/advanced-usage.html#ssl-warnings\n",
            "  InsecureRequestWarning)\n",
            "/home/anil/anaconda3/lib/python3.7/site-packages/urllib3/connectionpool.py:847: InsecureRequestWarning: Unverified HTTPS request is being made. Adding certificate verification is strongly advised. See: https://urllib3.readthedocs.io/en/latest/advanced-usage.html#ssl-warnings\n",
            "  InsecureRequestWarning)\n"
          ],
          "name": "stderr"
        },
        {
          "output_type": "stream",
          "text": [
            "Race Against Pandemic (2020);5.9\n"
          ],
          "name": "stdout"
        },
        {
          "output_type": "stream",
          "text": [
            "/home/anil/anaconda3/lib/python3.7/site-packages/urllib3/connectionpool.py:847: InsecureRequestWarning: Unverified HTTPS request is being made. Adding certificate verification is strongly advised. See: https://urllib3.readthedocs.io/en/latest/advanced-usage.html#ssl-warnings\n",
            "  InsecureRequestWarning)\n",
            "/home/anil/anaconda3/lib/python3.7/site-packages/urllib3/connectionpool.py:847: InsecureRequestWarning: Unverified HTTPS request is being made. Adding certificate verification is strongly advised. See: https://urllib3.readthedocs.io/en/latest/advanced-usage.html#ssl-warnings\n",
            "  InsecureRequestWarning)\n"
          ],
          "name": "stderr"
        },
        {
          "output_type": "stream",
          "text": [
            "The Runners (2020);7.1\n"
          ],
          "name": "stdout"
        },
        {
          "output_type": "stream",
          "text": [
            "/home/anil/anaconda3/lib/python3.7/site-packages/urllib3/connectionpool.py:847: InsecureRequestWarning: Unverified HTTPS request is being made. Adding certificate verification is strongly advised. See: https://urllib3.readthedocs.io/en/latest/advanced-usage.html#ssl-warnings\n",
            "  InsecureRequestWarning)\n",
            "/home/anil/anaconda3/lib/python3.7/site-packages/urllib3/connectionpool.py:847: InsecureRequestWarning: Unverified HTTPS request is being made. Adding certificate verification is strongly advised. See: https://urllib3.readthedocs.io/en/latest/advanced-usage.html#ssl-warnings\n",
            "  InsecureRequestWarning)\n"
          ],
          "name": "stderr"
        },
        {
          "output_type": "stream",
          "text": [
            "Rising Free (2019);6.7\n"
          ],
          "name": "stdout"
        },
        {
          "output_type": "stream",
          "text": [
            "/home/anil/anaconda3/lib/python3.7/site-packages/urllib3/connectionpool.py:847: InsecureRequestWarning: Unverified HTTPS request is being made. Adding certificate verification is strongly advised. See: https://urllib3.readthedocs.io/en/latest/advanced-usage.html#ssl-warnings\n",
            "  InsecureRequestWarning)\n",
            "/home/anil/anaconda3/lib/python3.7/site-packages/urllib3/connectionpool.py:847: InsecureRequestWarning: Unverified HTTPS request is being made. Adding certificate verification is strongly advised. See: https://urllib3.readthedocs.io/en/latest/advanced-usage.html#ssl-warnings\n",
            "  InsecureRequestWarning)\n"
          ],
          "name": "stderr"
        },
        {
          "output_type": "stream",
          "text": [
            "Rising Free (2019);6.7\n"
          ],
          "name": "stdout"
        },
        {
          "output_type": "stream",
          "text": [
            "/home/anil/anaconda3/lib/python3.7/site-packages/urllib3/connectionpool.py:847: InsecureRequestWarning: Unverified HTTPS request is being made. Adding certificate verification is strongly advised. See: https://urllib3.readthedocs.io/en/latest/advanced-usage.html#ssl-warnings\n",
            "  InsecureRequestWarning)\n",
            "/home/anil/anaconda3/lib/python3.7/site-packages/urllib3/connectionpool.py:847: InsecureRequestWarning: Unverified HTTPS request is being made. Adding certificate verification is strongly advised. See: https://urllib3.readthedocs.io/en/latest/advanced-usage.html#ssl-warnings\n",
            "  InsecureRequestWarning)\n"
          ],
          "name": "stderr"
        },
        {
          "output_type": "stream",
          "text": [
            "Race Against Pandemic (2020);5.9\n"
          ],
          "name": "stdout"
        },
        {
          "output_type": "stream",
          "text": [
            "/home/anil/anaconda3/lib/python3.7/site-packages/urllib3/connectionpool.py:847: InsecureRequestWarning: Unverified HTTPS request is being made. Adding certificate verification is strongly advised. See: https://urllib3.readthedocs.io/en/latest/advanced-usage.html#ssl-warnings\n",
            "  InsecureRequestWarning)\n",
            "/home/anil/anaconda3/lib/python3.7/site-packages/urllib3/connectionpool.py:847: InsecureRequestWarning: Unverified HTTPS request is being made. Adding certificate verification is strongly advised. See: https://urllib3.readthedocs.io/en/latest/advanced-usage.html#ssl-warnings\n",
            "  InsecureRequestWarning)\n"
          ],
          "name": "stderr"
        },
        {
          "output_type": "stream",
          "text": [
            "One Night (2012);5.9\n"
          ],
          "name": "stdout"
        },
        {
          "output_type": "stream",
          "text": [
            "/home/anil/anaconda3/lib/python3.7/site-packages/urllib3/connectionpool.py:847: InsecureRequestWarning: Unverified HTTPS request is being made. Adding certificate verification is strongly advised. See: https://urllib3.readthedocs.io/en/latest/advanced-usage.html#ssl-warnings\n",
            "  InsecureRequestWarning)\n"
          ],
          "name": "stderr"
        },
        {
          "output_type": "stream",
          "text": [
            "mkv;None\n"
          ],
          "name": "stdout"
        },
        {
          "output_type": "stream",
          "text": [
            "/home/anil/anaconda3/lib/python3.7/site-packages/urllib3/connectionpool.py:847: InsecureRequestWarning: Unverified HTTPS request is being made. Adding certificate verification is strongly advised. See: https://urllib3.readthedocs.io/en/latest/advanced-usage.html#ssl-warnings\n",
            "  InsecureRequestWarning)\n"
          ],
          "name": "stderr"
        },
        {
          "output_type": "stream",
          "text": [
            "Battlefield 2025 (2020);None\n"
          ],
          "name": "stdout"
        },
        {
          "output_type": "stream",
          "text": [
            "/home/anil/anaconda3/lib/python3.7/site-packages/urllib3/connectionpool.py:847: InsecureRequestWarning: Unverified HTTPS request is being made. Adding certificate verification is strongly advised. See: https://urllib3.readthedocs.io/en/latest/advanced-usage.html#ssl-warnings\n",
            "  InsecureRequestWarning)\n"
          ],
          "name": "stderr"
        },
        {
          "output_type": "stream",
          "text": [
            "Fck Buddies (2018) ;None\n"
          ],
          "name": "stdout"
        },
        {
          "output_type": "stream",
          "text": [
            "/home/anil/anaconda3/lib/python3.7/site-packages/urllib3/connectionpool.py:847: InsecureRequestWarning: Unverified HTTPS request is being made. Adding certificate verification is strongly advised. See: https://urllib3.readthedocs.io/en/latest/advanced-usage.html#ssl-warnings\n",
            "  InsecureRequestWarning)\n",
            "/home/anil/anaconda3/lib/python3.7/site-packages/urllib3/connectionpool.py:847: InsecureRequestWarning: Unverified HTTPS request is being made. Adding certificate verification is strongly advised. See: https://urllib3.readthedocs.io/en/latest/advanced-usage.html#ssl-warnings\n",
            "  InsecureRequestWarning)\n"
          ],
          "name": "stderr"
        },
        {
          "output_type": "stream",
          "text": [
            "Secret Zoo (2020);6.2\n"
          ],
          "name": "stdout"
        },
        {
          "output_type": "stream",
          "text": [
            "/home/anil/anaconda3/lib/python3.7/site-packages/urllib3/connectionpool.py:847: InsecureRequestWarning: Unverified HTTPS request is being made. Adding certificate verification is strongly advised. See: https://urllib3.readthedocs.io/en/latest/advanced-usage.html#ssl-warnings\n",
            "  InsecureRequestWarning)\n"
          ],
          "name": "stderr"
        },
        {
          "output_type": "stream",
          "text": [
            "Latte The Magic Waterstone (2019);None\n"
          ],
          "name": "stdout"
        },
        {
          "output_type": "stream",
          "text": [
            "/home/anil/anaconda3/lib/python3.7/site-packages/urllib3/connectionpool.py:847: InsecureRequestWarning: Unverified HTTPS request is being made. Adding certificate verification is strongly advised. See: https://urllib3.readthedocs.io/en/latest/advanced-usage.html#ssl-warnings\n",
            "  InsecureRequestWarning)\n"
          ],
          "name": "stderr"
        },
        {
          "output_type": "stream",
          "text": [
            "Killer Raccoons 2 Dark Christmas In The Dark (2020);None\n"
          ],
          "name": "stdout"
        },
        {
          "output_type": "stream",
          "text": [
            "/home/anil/anaconda3/lib/python3.7/site-packages/urllib3/connectionpool.py:847: InsecureRequestWarning: Unverified HTTPS request is being made. Adding certificate verification is strongly advised. See: https://urllib3.readthedocs.io/en/latest/advanced-usage.html#ssl-warnings\n",
            "  InsecureRequestWarning)\n"
          ],
          "name": "stderr"
        },
        {
          "output_type": "stream",
          "text": [
            "SPRD 1304 mp4;None\n"
          ],
          "name": "stdout"
        }
      ]
    },
    {
      "cell_type": "code",
      "metadata": {
        "id": "rv7NhsgPo0Nf",
        "colab_type": "code",
        "colab": {}
      },
      "source": [
        ""
      ],
      "execution_count": null,
      "outputs": []
    },
    {
      "cell_type": "code",
      "metadata": {
        "id": "WEEdpZf3o0No",
        "colab_type": "code",
        "colab": {}
      },
      "source": [
        ""
      ],
      "execution_count": null,
      "outputs": []
    },
    {
      "cell_type": "markdown",
      "metadata": {
        "id": "N3Em8dgGo0Nv",
        "colab_type": "text"
      },
      "source": [
        "### Creating Dataset"
      ]
    },
    {
      "cell_type": "code",
      "metadata": {
        "scrolled": true,
        "id": "izDP79IIo0Nw",
        "colab_type": "code",
        "colab": {}
      },
      "source": [
        "Movies=pd.Series(rating).apply(lambda x:x.split(';')[0])"
      ],
      "execution_count": null,
      "outputs": []
    },
    {
      "cell_type": "code",
      "metadata": {
        "id": "t32svO3Qo0N4",
        "colab_type": "code",
        "colab": {}
      },
      "source": [
        "Rate=pd.Series(rating).apply(lambda x:x.split(';')[1])"
      ],
      "execution_count": null,
      "outputs": []
    },
    {
      "cell_type": "code",
      "metadata": {
        "id": "iYis9fPio0OH",
        "colab_type": "code",
        "colab": {}
      },
      "source": [
        "df=pd.DataFrame({'Movies':Movies,'Rate':Rate})"
      ],
      "execution_count": null,
      "outputs": []
    },
    {
      "cell_type": "code",
      "metadata": {
        "id": "r9CA5ZARo0ON",
        "colab_type": "code",
        "colab": {},
        "outputId": "2fb4bf8a-4d06-451c-ad7c-fb97c71b9ba7"
      },
      "source": [
        "df.head()"
      ],
      "execution_count": null,
      "outputs": [
        {
          "output_type": "execute_result",
          "data": {
            "text/html": [
              "<div>\n",
              "<style scoped>\n",
              "    .dataframe tbody tr th:only-of-type {\n",
              "        vertical-align: middle;\n",
              "    }\n",
              "\n",
              "    .dataframe tbody tr th {\n",
              "        vertical-align: top;\n",
              "    }\n",
              "\n",
              "    .dataframe thead th {\n",
              "        text-align: right;\n",
              "    }\n",
              "</style>\n",
              "<table border=\"1\" class=\"dataframe\">\n",
              "  <thead>\n",
              "    <tr style=\"text-align: right;\">\n",
              "      <th></th>\n",
              "      <th>Movies</th>\n",
              "      <th>Rate</th>\n",
              "    </tr>\n",
              "  </thead>\n",
              "  <tbody>\n",
              "    <tr>\n",
              "      <td>0</td>\n",
              "      <td>Greyhound (2020)</td>\n",
              "      <td>7.1</td>\n",
              "    </tr>\n",
              "    <tr>\n",
              "      <td>1</td>\n",
              "      <td>The Old Guard (2020)</td>\n",
              "      <td>6.7</td>\n",
              "    </tr>\n",
              "    <tr>\n",
              "      <td>2</td>\n",
              "      <td>The Old Guard (2020)</td>\n",
              "      <td>6.7</td>\n",
              "    </tr>\n",
              "    <tr>\n",
              "      <td>3</td>\n",
              "      <td>Greyhound (2020)</td>\n",
              "      <td>7.1</td>\n",
              "    </tr>\n",
              "    <tr>\n",
              "      <td>4</td>\n",
              "      <td>Palm Springs (2020)</td>\n",
              "      <td>7.6</td>\n",
              "    </tr>\n",
              "  </tbody>\n",
              "</table>\n",
              "</div>"
            ],
            "text/plain": [
              "                 Movies Rate\n",
              "0      Greyhound (2020)  7.1\n",
              "1  The Old Guard (2020)  6.7\n",
              "2  The Old Guard (2020)  6.7\n",
              "3      Greyhound (2020)  7.1\n",
              "4   Palm Springs (2020)  7.6"
            ]
          },
          "metadata": {
            "tags": []
          },
          "execution_count": 37
        }
      ]
    },
    {
      "cell_type": "code",
      "metadata": {
        "id": "s8E2erg1o0OW",
        "colab_type": "code",
        "colab": {},
        "outputId": "cb3d009b-c3ea-4e75-e632-9900807ad58a"
      },
      "source": [
        "df.describe()"
      ],
      "execution_count": null,
      "outputs": [
        {
          "output_type": "execute_result",
          "data": {
            "text/html": [
              "<div>\n",
              "<style scoped>\n",
              "    .dataframe tbody tr th:only-of-type {\n",
              "        vertical-align: middle;\n",
              "    }\n",
              "\n",
              "    .dataframe tbody tr th {\n",
              "        vertical-align: top;\n",
              "    }\n",
              "\n",
              "    .dataframe thead th {\n",
              "        text-align: right;\n",
              "    }\n",
              "</style>\n",
              "<table border=\"1\" class=\"dataframe\">\n",
              "  <thead>\n",
              "    <tr style=\"text-align: right;\">\n",
              "      <th></th>\n",
              "      <th>Movies</th>\n",
              "      <th>Rate</th>\n",
              "    </tr>\n",
              "  </thead>\n",
              "  <tbody>\n",
              "    <tr>\n",
              "      <td>count</td>\n",
              "      <td>50</td>\n",
              "      <td>50</td>\n",
              "    </tr>\n",
              "    <tr>\n",
              "      <td>unique</td>\n",
              "      <td>31</td>\n",
              "      <td>14</td>\n",
              "    </tr>\n",
              "    <tr>\n",
              "      <td>top</td>\n",
              "      <td>Season</td>\n",
              "      <td>None</td>\n",
              "    </tr>\n",
              "    <tr>\n",
              "      <td>freq</td>\n",
              "      <td>3</td>\n",
              "      <td>19</td>\n",
              "    </tr>\n",
              "  </tbody>\n",
              "</table>\n",
              "</div>"
            ],
            "text/plain": [
              "        Movies  Rate\n",
              "count       50    50\n",
              "unique      31    14\n",
              "top     Season  None\n",
              "freq         3    19"
            ]
          },
          "metadata": {
            "tags": []
          },
          "execution_count": 38
        }
      ]
    },
    {
      "cell_type": "code",
      "metadata": {
        "id": "g5rw6Vreo0Ob",
        "colab_type": "code",
        "colab": {},
        "outputId": "767d87c0-46c3-4c43-8c83-f7309232f050"
      },
      "source": [
        "# df.isna().sum()\n",
        "df.columns"
      ],
      "execution_count": null,
      "outputs": [
        {
          "output_type": "execute_result",
          "data": {
            "text/plain": [
              "Index(['Movies', 'Rate'], dtype='object')"
            ]
          },
          "metadata": {
            "tags": []
          },
          "execution_count": 39
        }
      ]
    },
    {
      "cell_type": "code",
      "metadata": {
        "id": "QfXwnpafo0Oi",
        "colab_type": "code",
        "colab": {},
        "outputId": "22b2331a-f81a-4682-d102-59aecb935e55"
      },
      "source": [
        "df[df['Rate']=='None']"
      ],
      "execution_count": null,
      "outputs": [
        {
          "output_type": "execute_result",
          "data": {
            "text/html": [
              "<div>\n",
              "<style scoped>\n",
              "    .dataframe tbody tr th:only-of-type {\n",
              "        vertical-align: middle;\n",
              "    }\n",
              "\n",
              "    .dataframe tbody tr th {\n",
              "        vertical-align: top;\n",
              "    }\n",
              "\n",
              "    .dataframe thead th {\n",
              "        text-align: right;\n",
              "    }\n",
              "</style>\n",
              "<table border=\"1\" class=\"dataframe\">\n",
              "  <thead>\n",
              "    <tr style=\"text-align: right;\">\n",
              "      <th></th>\n",
              "      <th>Movies</th>\n",
              "      <th>Rate</th>\n",
              "    </tr>\n",
              "  </thead>\n",
              "  <tbody>\n",
              "    <tr>\n",
              "      <td>8</td>\n",
              "      <td>Arthur Merlin Knights Of Camelot (2020)</td>\n",
              "      <td>None</td>\n",
              "    </tr>\n",
              "    <tr>\n",
              "      <td>11</td>\n",
              "      <td>Arthur Merlin Knights Of Camelot (2020)</td>\n",
              "      <td>None</td>\n",
              "    </tr>\n",
              "    <tr>\n",
              "      <td>14</td>\n",
              "      <td>Psych 2 Lassie Come Home (2020)</td>\n",
              "      <td>None</td>\n",
              "    </tr>\n",
              "    <tr>\n",
              "      <td>17</td>\n",
              "      <td>The Legend Of Muay Thai 9 Satra (2018)</td>\n",
              "      <td>None</td>\n",
              "    </tr>\n",
              "    <tr>\n",
              "      <td>18</td>\n",
              "      <td>SPRD 1307 mp4</td>\n",
              "      <td>None</td>\n",
              "    </tr>\n",
              "    <tr>\n",
              "      <td>22</td>\n",
              "      <td>UFC 251</td>\n",
              "      <td>None</td>\n",
              "    </tr>\n",
              "    <tr>\n",
              "      <td>23</td>\n",
              "      <td>Life On Us A Microscopic Safari (2014)</td>\n",
              "      <td>None</td>\n",
              "    </tr>\n",
              "    <tr>\n",
              "      <td>24</td>\n",
              "      <td>SPRD 1309 mp4</td>\n",
              "      <td>None</td>\n",
              "    </tr>\n",
              "    <tr>\n",
              "      <td>26</td>\n",
              "      <td>Zombie For Sale (2019)</td>\n",
              "      <td>None</td>\n",
              "    </tr>\n",
              "    <tr>\n",
              "      <td>28</td>\n",
              "      <td>The Legend Of Muay Thai 9 Satra (2018)</td>\n",
              "      <td>None</td>\n",
              "    </tr>\n",
              "    <tr>\n",
              "      <td>31</td>\n",
              "      <td>Zombie For Sale (2019)</td>\n",
              "      <td>None</td>\n",
              "    </tr>\n",
              "    <tr>\n",
              "      <td>33</td>\n",
              "      <td>Life On Us A Microscopic Safari (2014)</td>\n",
              "      <td>None</td>\n",
              "    </tr>\n",
              "    <tr>\n",
              "      <td>34</td>\n",
              "      <td>Latte The Magic Waterstone (2019)</td>\n",
              "      <td>None</td>\n",
              "    </tr>\n",
              "    <tr>\n",
              "      <td>43</td>\n",
              "      <td>mkv</td>\n",
              "      <td>None</td>\n",
              "    </tr>\n",
              "    <tr>\n",
              "      <td>44</td>\n",
              "      <td>Battlefield 2025 (2020)</td>\n",
              "      <td>None</td>\n",
              "    </tr>\n",
              "    <tr>\n",
              "      <td>45</td>\n",
              "      <td>Fck Buddies (2018)</td>\n",
              "      <td>None</td>\n",
              "    </tr>\n",
              "    <tr>\n",
              "      <td>47</td>\n",
              "      <td>Latte The Magic Waterstone (2019)</td>\n",
              "      <td>None</td>\n",
              "    </tr>\n",
              "    <tr>\n",
              "      <td>48</td>\n",
              "      <td>Killer Raccoons 2 Dark Christmas In The Dark (...</td>\n",
              "      <td>None</td>\n",
              "    </tr>\n",
              "    <tr>\n",
              "      <td>49</td>\n",
              "      <td>SPRD 1304 mp4</td>\n",
              "      <td>None</td>\n",
              "    </tr>\n",
              "  </tbody>\n",
              "</table>\n",
              "</div>"
            ],
            "text/plain": [
              "                                               Movies  Rate\n",
              "8             Arthur Merlin Knights Of Camelot (2020)  None\n",
              "11            Arthur Merlin Knights Of Camelot (2020)  None\n",
              "14                    Psych 2 Lassie Come Home (2020)  None\n",
              "17             The Legend Of Muay Thai 9 Satra (2018)  None\n",
              "18                                      SPRD 1307 mp4  None\n",
              "22                                           UFC 251   None\n",
              "23             Life On Us A Microscopic Safari (2014)  None\n",
              "24                                      SPRD 1309 mp4  None\n",
              "26                             Zombie For Sale (2019)  None\n",
              "28             The Legend Of Muay Thai 9 Satra (2018)  None\n",
              "31                             Zombie For Sale (2019)  None\n",
              "33             Life On Us A Microscopic Safari (2014)  None\n",
              "34                  Latte The Magic Waterstone (2019)  None\n",
              "43                                                mkv  None\n",
              "44                            Battlefield 2025 (2020)  None\n",
              "45                                Fck Buddies (2018)   None\n",
              "47                  Latte The Magic Waterstone (2019)  None\n",
              "48  Killer Raccoons 2 Dark Christmas In The Dark (...  None\n",
              "49                                      SPRD 1304 mp4  None"
            ]
          },
          "metadata": {
            "tags": []
          },
          "execution_count": 40
        }
      ]
    },
    {
      "cell_type": "code",
      "metadata": {
        "id": "OZfrKoGco0On",
        "colab_type": "code",
        "colab": {}
      },
      "source": [
        "df['Rate']=df['Rate'].replace('None',0.0)"
      ],
      "execution_count": null,
      "outputs": []
    },
    {
      "cell_type": "code",
      "metadata": {
        "id": "oYc4nE-4o0Os",
        "colab_type": "code",
        "colab": {}
      },
      "source": [
        "df['Rate']=df['Rate'].apply(lambda x:float(x))"
      ],
      "execution_count": null,
      "outputs": []
    },
    {
      "cell_type": "code",
      "metadata": {
        "id": "SCCALdJVo0Ox",
        "colab_type": "code",
        "colab": {},
        "outputId": "9bb1978a-a494-4075-b948-ceb89c30ad78"
      },
      "source": [
        "# In Between method\n",
        "# df[df['Rate'].between(5.0 ,6.0)]  \n",
        "df[df['Rate']!=0.0]"
      ],
      "execution_count": null,
      "outputs": [
        {
          "output_type": "execute_result",
          "data": {
            "text/html": [
              "<div>\n",
              "<style scoped>\n",
              "    .dataframe tbody tr th:only-of-type {\n",
              "        vertical-align: middle;\n",
              "    }\n",
              "\n",
              "    .dataframe tbody tr th {\n",
              "        vertical-align: top;\n",
              "    }\n",
              "\n",
              "    .dataframe thead th {\n",
              "        text-align: right;\n",
              "    }\n",
              "</style>\n",
              "<table border=\"1\" class=\"dataframe\">\n",
              "  <thead>\n",
              "    <tr style=\"text-align: right;\">\n",
              "      <th></th>\n",
              "      <th>Movies</th>\n",
              "      <th>Rate</th>\n",
              "    </tr>\n",
              "  </thead>\n",
              "  <tbody>\n",
              "    <tr>\n",
              "      <td>0</td>\n",
              "      <td>Greyhound (2020)</td>\n",
              "      <td>7.1</td>\n",
              "    </tr>\n",
              "    <tr>\n",
              "      <td>1</td>\n",
              "      <td>The Old Guard (2020)</td>\n",
              "      <td>6.7</td>\n",
              "    </tr>\n",
              "    <tr>\n",
              "      <td>2</td>\n",
              "      <td>The Old Guard (2020)</td>\n",
              "      <td>6.7</td>\n",
              "    </tr>\n",
              "    <tr>\n",
              "      <td>3</td>\n",
              "      <td>Greyhound (2020)</td>\n",
              "      <td>7.1</td>\n",
              "    </tr>\n",
              "    <tr>\n",
              "      <td>4</td>\n",
              "      <td>Palm Springs (2020)</td>\n",
              "      <td>7.6</td>\n",
              "    </tr>\n",
              "    <tr>\n",
              "      <td>7</td>\n",
              "      <td>Palm Springs (2020)</td>\n",
              "      <td>7.6</td>\n",
              "    </tr>\n",
              "    <tr>\n",
              "      <td>9</td>\n",
              "      <td>Archive (2020)</td>\n",
              "      <td>6.3</td>\n",
              "    </tr>\n",
              "    <tr>\n",
              "      <td>10</td>\n",
              "      <td>Archive (2020)</td>\n",
              "      <td>6.3</td>\n",
              "    </tr>\n",
              "    <tr>\n",
              "      <td>12</td>\n",
              "      <td>Season</td>\n",
              "      <td>7.4</td>\n",
              "    </tr>\n",
              "    <tr>\n",
              "      <td>13</td>\n",
              "      <td>Season</td>\n",
              "      <td>7.4</td>\n",
              "    </tr>\n",
              "    <tr>\n",
              "      <td>15</td>\n",
              "      <td>The Night Clerk (2020)</td>\n",
              "      <td>5.4</td>\n",
              "    </tr>\n",
              "    <tr>\n",
              "      <td>16</td>\n",
              "      <td>Greyhound 2020</td>\n",
              "      <td>7.1</td>\n",
              "    </tr>\n",
              "    <tr>\n",
              "      <td>19</td>\n",
              "      <td>Coven (2020)</td>\n",
              "      <td>3.0</td>\n",
              "    </tr>\n",
              "    <tr>\n",
              "      <td>20</td>\n",
              "      <td>Useless Humans (2020)</td>\n",
              "      <td>5.1</td>\n",
              "    </tr>\n",
              "    <tr>\n",
              "      <td>21</td>\n",
              "      <td>Season</td>\n",
              "      <td>7.4</td>\n",
              "    </tr>\n",
              "    <tr>\n",
              "      <td>25</td>\n",
              "      <td>Useless Humans (2020)</td>\n",
              "      <td>5.1</td>\n",
              "    </tr>\n",
              "    <tr>\n",
              "      <td>27</td>\n",
              "      <td>One Night (2012)</td>\n",
              "      <td>5.9</td>\n",
              "    </tr>\n",
              "    <tr>\n",
              "      <td>29</td>\n",
              "      <td>Alpha Code (2020)</td>\n",
              "      <td>3.4</td>\n",
              "    </tr>\n",
              "    <tr>\n",
              "      <td>30</td>\n",
              "      <td>Greyhound 2020</td>\n",
              "      <td>7.1</td>\n",
              "    </tr>\n",
              "    <tr>\n",
              "      <td>32</td>\n",
              "      <td>Wolf (2019)</td>\n",
              "      <td>5.2</td>\n",
              "    </tr>\n",
              "    <tr>\n",
              "      <td>35</td>\n",
              "      <td>Coven (2020)</td>\n",
              "      <td>3.0</td>\n",
              "    </tr>\n",
              "    <tr>\n",
              "      <td>36</td>\n",
              "      <td>Alpha Code (2020)</td>\n",
              "      <td>3.4</td>\n",
              "    </tr>\n",
              "    <tr>\n",
              "      <td>37</td>\n",
              "      <td>Race Against Pandemic (2020)</td>\n",
              "      <td>5.9</td>\n",
              "    </tr>\n",
              "    <tr>\n",
              "      <td>38</td>\n",
              "      <td>The Runners (2020)</td>\n",
              "      <td>7.1</td>\n",
              "    </tr>\n",
              "    <tr>\n",
              "      <td>39</td>\n",
              "      <td>Rising Free (2019)</td>\n",
              "      <td>6.7</td>\n",
              "    </tr>\n",
              "    <tr>\n",
              "      <td>40</td>\n",
              "      <td>Rising Free (2019)</td>\n",
              "      <td>6.7</td>\n",
              "    </tr>\n",
              "    <tr>\n",
              "      <td>41</td>\n",
              "      <td>Race Against Pandemic (2020)</td>\n",
              "      <td>5.9</td>\n",
              "    </tr>\n",
              "    <tr>\n",
              "      <td>42</td>\n",
              "      <td>One Night (2012)</td>\n",
              "      <td>5.9</td>\n",
              "    </tr>\n",
              "    <tr>\n",
              "      <td>46</td>\n",
              "      <td>Secret Zoo (2020)</td>\n",
              "      <td>6.2</td>\n",
              "    </tr>\n",
              "  </tbody>\n",
              "</table>\n",
              "</div>"
            ],
            "text/plain": [
              "                          Movies  Rate\n",
              "0               Greyhound (2020)   7.1\n",
              "1           The Old Guard (2020)   6.7\n",
              "2           The Old Guard (2020)   6.7\n",
              "3               Greyhound (2020)   7.1\n",
              "4            Palm Springs (2020)   7.6\n",
              "7            Palm Springs (2020)   7.6\n",
              "9                 Archive (2020)   6.3\n",
              "10                Archive (2020)   6.3\n",
              "12                        Season   7.4\n",
              "13                        Season   7.4\n",
              "15        The Night Clerk (2020)   5.4\n",
              "16               Greyhound 2020    7.1\n",
              "19                  Coven (2020)   3.0\n",
              "20         Useless Humans (2020)   5.1\n",
              "21                        Season   7.4\n",
              "25         Useless Humans (2020)   5.1\n",
              "27              One Night (2012)   5.9\n",
              "29             Alpha Code (2020)   3.4\n",
              "30               Greyhound 2020    7.1\n",
              "32                   Wolf (2019)   5.2\n",
              "35                  Coven (2020)   3.0\n",
              "36             Alpha Code (2020)   3.4\n",
              "37  Race Against Pandemic (2020)   5.9\n",
              "38            The Runners (2020)   7.1\n",
              "39            Rising Free (2019)   6.7\n",
              "40            Rising Free (2019)   6.7\n",
              "41  Race Against Pandemic (2020)   5.9\n",
              "42              One Night (2012)   5.9\n",
              "46             Secret Zoo (2020)   6.2"
            ]
          },
          "metadata": {
            "tags": []
          },
          "execution_count": 46
        }
      ]
    },
    {
      "cell_type": "markdown",
      "metadata": {
        "id": "lfdkRU0Zo0O4",
        "colab_type": "text"
      },
      "source": [
        "### Ideas\n",
        "- Put Genre of Movie\n",
        "- Find the Right Name of Movie from Google Search Box  cite: Note\n",
        "- Search the Name of Movie cite: Note\n",
        "\n",
        "- Note: Using BeautifulSoup or Find Best alternative of it"
      ]
    },
    {
      "cell_type": "code",
      "metadata": {
        "id": "h3fHI7bso0O5",
        "colab_type": "code",
        "colab": {}
      },
      "source": [
        ""
      ],
      "execution_count": null,
      "outputs": []
    },
    {
      "cell_type": "code",
      "metadata": {
        "id": "EGJQZYYgo0O-",
        "colab_type": "code",
        "colab": {}
      },
      "source": [
        ""
      ],
      "execution_count": null,
      "outputs": []
    },
    {
      "cell_type": "code",
      "metadata": {
        "id": "mkDFC_Jpo0PG",
        "colab_type": "code",
        "colab": {}
      },
      "source": [
        ""
      ],
      "execution_count": null,
      "outputs": []
    },
    {
      "cell_type": "code",
      "metadata": {
        "id": "v9WP7BJ6o0PL",
        "colab_type": "code",
        "colab": {}
      },
      "source": [
        ""
      ],
      "execution_count": null,
      "outputs": []
    },
    {
      "cell_type": "code",
      "metadata": {
        "id": "bU_p14F5o0PQ",
        "colab_type": "code",
        "colab": {}
      },
      "source": [
        "# da==a\n",
        "\n",
        "# l=[6,7,8,12,15,16,17,20,23,25,26,28,33,38,39,40,47,49]\n",
        "# for i in l:\n",
        "#     name='+'.join(lst_3[i].split())\n",
        "#     url='https://www.google.com/search?q='+name+'&utm_source=HPPTC0'\n",
        "#     print(i,url)\n",
        "\n",
        "\n",
        "# name='+'.join(lst_3[47].split())\n",
        "\n",
        "# # url='https://www.google.com/search?q='+name+'&utm_source=HPPTC0'\n",
        "# url='https://www.imdb.com/find?q='+name+'&ref_=nv_sr_sm#tt'\n",
        "\n",
        "# url\n",
        "\n",
        "# r=requests.get(url,verify = False)\n",
        "\n",
        "# # def f():\n",
        "# #     try:\n",
        "# #         r=requests.get(url,verify = False)\n",
        "# #         soup=BeautifulSoup(r.text,'html.parser')\n",
        "# #     except:\n",
        "# #         f()\n",
        "# # f()\n",
        "\n",
        "# soup=BeautifulSoup(r.text,'html.parser')\n",
        "\n",
        "# soup.find_all(href=True,text='Three')"
      ],
      "execution_count": null,
      "outputs": []
    }
  ]
}