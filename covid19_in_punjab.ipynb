{
  "nbformat": 4,
  "nbformat_minor": 0,
  "metadata": {
    "kernelspec": {
      "display_name": "Python 3",
      "language": "python",
      "name": "python3"
    },
    "language_info": {
      "codemirror_mode": {
        "name": "ipython",
        "version": 3
      },
      "file_extension": ".py",
      "mimetype": "text/x-python",
      "name": "python",
      "nbconvert_exporter": "python",
      "pygments_lexer": "ipython3",
      "version": "3.7.4"
    },
    "colab": {
      "name": "covid19 in punjab.ipynb",
      "provenance": [],
      "include_colab_link": true
    }
  },
  "cells": [
    {
      "cell_type": "markdown",
      "metadata": {
        "id": "view-in-github",
        "colab_type": "text"
      },
      "source": [
        "<a href=\"https://colab.research.google.com/github/capitallatera/Minor_Projects/blob/master/covid19_in_punjab.ipynb\" target=\"_parent\"><img src=\"https://colab.research.google.com/assets/colab-badge.svg\" alt=\"Open In Colab\"/></a>"
      ]
    },
    {
      "cell_type": "code",
      "metadata": {
        "id": "fj7SimbBOzOI",
        "colab_type": "code",
        "colab": {}
      },
      "source": [
        "# pip install bs4"
      ],
      "execution_count": 1,
      "outputs": []
    },
    {
      "cell_type": "code",
      "metadata": {
        "id": "z3nv0YALOzOd",
        "colab_type": "code",
        "colab": {}
      },
      "source": [
        "# importing the BeautifulSoup Library\n",
        "import bs4\n",
        "import requests"
      ],
      "execution_count": 2,
      "outputs": []
    },
    {
      "cell_type": "code",
      "metadata": {
        "id": "x21SCmCyOzOv",
        "colab_type": "code",
        "colab": {}
      },
      "source": [
        "res=requests.get(\"https://en.wikipedia.org/wiki/COVID-19_pandemic_in_Punjab,_India\")"
      ],
      "execution_count": 3,
      "outputs": []
    },
    {
      "cell_type": "code",
      "metadata": {
        "id": "UfDiuwhkOzO8",
        "colab_type": "code",
        "colab": {}
      },
      "source": [
        "# Convert the request object to the Beautiful Soup Object\n",
        "soup=bs4.BeautifulSoup(res.text,'html.parser')"
      ],
      "execution_count": 4,
      "outputs": []
    },
    {
      "cell_type": "code",
      "metadata": {
        "id": "4eh0c9F5OzPG",
        "colab_type": "code",
        "colab": {}
      },
      "source": [
        "data=[]\n",
        "data_iterator=iter(soup.find_all('tr'))"
      ],
      "execution_count": 5,
      "outputs": []
    },
    {
      "cell_type": "code",
      "metadata": {
        "id": "F1arcinPOzPW",
        "colab_type": "code",
        "colab": {}
      },
      "source": [
        "while True:\n",
        "    try:\n",
        "        d_1=next(data_iterator).text\n",
        "        \n",
        "        data.append((\n",
        "            d_1\n",
        "        ))\n",
        "    except StopIteration:\n",
        "        break\n",
        "        "
      ],
      "execution_count": 6,
      "outputs": []
    },
    {
      "cell_type": "code",
      "metadata": {
        "id": "c-iKRj9zOzPh",
        "colab_type": "code",
        "colab": {}
      },
      "source": [
        "jj=[]\n",
        "for i in data:\n",
        "    s=i.replace(\"\\n\\n\",',')\n",
        "    s=s.replace('\\n','')\n",
        "    jj.append([s])"
      ],
      "execution_count": 7,
      "outputs": []
    },
    {
      "cell_type": "code",
      "metadata": {
        "id": "--H4W-LeOzPq",
        "colab_type": "code",
        "colab": {
          "base_uri": "https://localhost:8080/",
          "height": 52
        },
        "outputId": "3edef41f-094d-40ce-d07d-cc143352a9be"
      },
      "source": [
        "for i,j in zip(jj,range(len(jj))):\n",
        "    if i[0]=='COVID-19 pandemic in Punjab by Districts':\n",
        "        print(i[0],j)\n",
        "    if i[0]=='Date(2020),District,Cases,Deaths':\n",
        "        print(i[0],j)"
      ],
      "execution_count": 8,
      "outputs": [
        {
          "output_type": "stream",
          "text": [
            "COVID-19 pandemic in Punjab by Districts 15\n",
            "Date(2020),District,Cases,Deaths 41\n"
          ],
          "name": "stdout"
        }
      ]
    },
    {
      "cell_type": "code",
      "metadata": {
        "id": "RuzzvCo9OzP0",
        "colab_type": "code",
        "colab": {}
      },
      "source": [
        "llst=[]\n",
        "for i,j in zip(jj,range(len(jj))):\n",
        "    if j>=18 and j<40:\n",
        "        llst.append([i[0]])"
      ],
      "execution_count": 9,
      "outputs": []
    },
    {
      "cell_type": "code",
      "metadata": {
        "scrolled": true,
        "id": "XuQ4kmy-OzP9",
        "colab_type": "code",
        "colab": {}
      },
      "source": [
        "lst=[]\n",
        "for j in range(len(llst)):\n",
        "    ii=llst[j][0].split(',')\n",
        "    lst.append(ii)"
      ],
      "execution_count": 10,
      "outputs": []
    },
    {
      "cell_type": "code",
      "metadata": {
        "id": "SZ2KfDIVOzQH",
        "colab_type": "code",
        "colab": {}
      },
      "source": [
        "import csv\n",
        "fields=['Districts','Active cases','Recovered','Deaths','Total cases','Tests']\n",
        "lst\n",
        "filename='covid19_punjab_dataset.csv'\n",
        "with open(filename,'w') as csvfile:\n",
        "    csvwriter=csv.writer(csvfile)\n",
        "    csvwriter.writerow(fields)\n",
        "    csvwriter.writerows(lst)"
      ],
      "execution_count": 11,
      "outputs": []
    },
    {
      "cell_type": "markdown",
      "metadata": {
        "id": "1hTVKkiPOzQR",
        "colab_type": "text"
      },
      "source": [
        "###  Reading the dataset"
      ]
    },
    {
      "cell_type": "code",
      "metadata": {
        "id": "wqxQ4hPaOzQT",
        "colab_type": "code",
        "colab": {}
      },
      "source": [
        "import pandas as pd"
      ],
      "execution_count": 12,
      "outputs": []
    },
    {
      "cell_type": "code",
      "metadata": {
        "id": "jJ5R4IDJOzQb",
        "colab_type": "code",
        "colab": {
          "base_uri": "https://localhost:8080/",
          "height": 143
        },
        "outputId": "862c9707-bc14-40fc-f339-cfa473c02733"
      },
      "source": [
        "df=pd.read_csv('covid19_punjab_dataset.csv')\n",
        "df.head(3)"
      ],
      "execution_count": 13,
      "outputs": [
        {
          "output_type": "execute_result",
          "data": {
            "text/html": [
              "<div>\n",
              "<style scoped>\n",
              "    .dataframe tbody tr th:only-of-type {\n",
              "        vertical-align: middle;\n",
              "    }\n",
              "\n",
              "    .dataframe tbody tr th {\n",
              "        vertical-align: top;\n",
              "    }\n",
              "\n",
              "    .dataframe thead th {\n",
              "        text-align: right;\n",
              "    }\n",
              "</style>\n",
              "<table border=\"1\" class=\"dataframe\">\n",
              "  <thead>\n",
              "    <tr style=\"text-align: right;\">\n",
              "      <th></th>\n",
              "      <th>Districts</th>\n",
              "      <th>Active cases</th>\n",
              "      <th>Recovered</th>\n",
              "      <th>Deaths</th>\n",
              "      <th>Total cases</th>\n",
              "      <th>Tests</th>\n",
              "    </tr>\n",
              "  </thead>\n",
              "  <tbody>\n",
              "    <tr>\n",
              "      <th>0</th>\n",
              "      <td>Amritsar</td>\n",
              "      <td>277</td>\n",
              "      <td>1039</td>\n",
              "      <td>65</td>\n",
              "      <td>1381</td>\n",
              "      <td>35.6k</td>\n",
              "    </tr>\n",
              "    <tr>\n",
              "      <th>1</th>\n",
              "      <td>Barnala</td>\n",
              "      <td>20</td>\n",
              "      <td>71</td>\n",
              "      <td>2</td>\n",
              "      <td>93</td>\n",
              "      <td>9.5K</td>\n",
              "    </tr>\n",
              "    <tr>\n",
              "      <th>2</th>\n",
              "      <td>Bathinda</td>\n",
              "      <td>105</td>\n",
              "      <td>133</td>\n",
              "      <td>4</td>\n",
              "      <td>242</td>\n",
              "      <td>17.3K</td>\n",
              "    </tr>\n",
              "  </tbody>\n",
              "</table>\n",
              "</div>"
            ],
            "text/plain": [
              "  Districts  Active cases  Recovered  Deaths  Total cases  Tests\n",
              "0  Amritsar           277       1039      65         1381  35.6k\n",
              "1   Barnala            20         71       2           93   9.5K\n",
              "2  Bathinda           105        133       4          242  17.3K"
            ]
          },
          "metadata": {
            "tags": []
          },
          "execution_count": 13
        }
      ]
    },
    {
      "cell_type": "code",
      "metadata": {
        "id": "S8Y-HfX2OzQn",
        "colab_type": "code",
        "colab": {}
      },
      "source": [
        "# # remove the parenthesis area\n",
        "# s='a(12)b'\n",
        "# import re\n",
        "# re.sub(r\" ?\\([^)]+\\)\", \"\", s) "
      ],
      "execution_count": 14,
      "outputs": []
    },
    {
      "cell_type": "code",
      "metadata": {
        "id": "PTGkxAlDOzQv",
        "colab_type": "code",
        "colab": {
          "base_uri": "https://localhost:8080/",
          "height": 112
        },
        "outputId": "835ba44d-d325-4a5f-e8c0-bc60ea2f8004"
      },
      "source": [
        "df.head(2)"
      ],
      "execution_count": 15,
      "outputs": [
        {
          "output_type": "execute_result",
          "data": {
            "text/html": [
              "<div>\n",
              "<style scoped>\n",
              "    .dataframe tbody tr th:only-of-type {\n",
              "        vertical-align: middle;\n",
              "    }\n",
              "\n",
              "    .dataframe tbody tr th {\n",
              "        vertical-align: top;\n",
              "    }\n",
              "\n",
              "    .dataframe thead th {\n",
              "        text-align: right;\n",
              "    }\n",
              "</style>\n",
              "<table border=\"1\" class=\"dataframe\">\n",
              "  <thead>\n",
              "    <tr style=\"text-align: right;\">\n",
              "      <th></th>\n",
              "      <th>Districts</th>\n",
              "      <th>Active cases</th>\n",
              "      <th>Recovered</th>\n",
              "      <th>Deaths</th>\n",
              "      <th>Total cases</th>\n",
              "      <th>Tests</th>\n",
              "    </tr>\n",
              "  </thead>\n",
              "  <tbody>\n",
              "    <tr>\n",
              "      <th>0</th>\n",
              "      <td>Amritsar</td>\n",
              "      <td>277</td>\n",
              "      <td>1039</td>\n",
              "      <td>65</td>\n",
              "      <td>1381</td>\n",
              "      <td>35.6k</td>\n",
              "    </tr>\n",
              "    <tr>\n",
              "      <th>1</th>\n",
              "      <td>Barnala</td>\n",
              "      <td>20</td>\n",
              "      <td>71</td>\n",
              "      <td>2</td>\n",
              "      <td>93</td>\n",
              "      <td>9.5K</td>\n",
              "    </tr>\n",
              "  </tbody>\n",
              "</table>\n",
              "</div>"
            ],
            "text/plain": [
              "  Districts  Active cases  Recovered  Deaths  Total cases  Tests\n",
              "0  Amritsar           277       1039      65         1381  35.6k\n",
              "1   Barnala            20         71       2           93   9.5K"
            ]
          },
          "metadata": {
            "tags": []
          },
          "execution_count": 15
        }
      ]
    },
    {
      "cell_type": "code",
      "metadata": {
        "id": "XkVW-H5LOzQ7",
        "colab_type": "code",
        "colab": {}
      },
      "source": [
        "import re\n",
        "# df['Active cases']=df['Active cases'].apply(lambda x:re.sub(r\" ?\\([^)]+\\)\",\"\", x))"
      ],
      "execution_count": 16,
      "outputs": []
    },
    {
      "cell_type": "code",
      "metadata": {
        "id": "ZUjIaSjUOzRH",
        "colab_type": "code",
        "colab": {}
      },
      "source": [
        "# df['Recovered']=df['Recovered'].apply(lambda x:re.sub(r\" ?\\([^)]+\\)\", \"\", x))"
      ],
      "execution_count": 17,
      "outputs": []
    },
    {
      "cell_type": "code",
      "metadata": {
        "id": "77ER65KLOzRO",
        "colab_type": "code",
        "colab": {}
      },
      "source": [
        "# df['Deaths']=df['Deaths'].apply(lambda x:re.sub(r\" ?\\([^)]+\\)\",\"\", x))"
      ],
      "execution_count": 18,
      "outputs": []
    },
    {
      "cell_type": "code",
      "metadata": {
        "id": "j0Fi4xG4OzRV",
        "colab_type": "code",
        "colab": {}
      },
      "source": [
        "df['Active cases']=df['Active cases'].map(lambda x: int(x))\n",
        "df['Deaths']=df['Deaths'].map(lambda x: int(x))"
      ],
      "execution_count": 19,
      "outputs": []
    },
    {
      "cell_type": "code",
      "metadata": {
        "id": "L_-kenhQOzRb",
        "colab_type": "code",
        "colab": {
          "base_uri": "https://localhost:8080/",
          "height": 206
        },
        "outputId": "57b6ae9f-9f22-474d-c3c2-4e0355cde54d"
      },
      "source": [
        "# Top five cities have Maximum Deaths\n",
        "df.sort_values('Deaths',ascending=False).head()"
      ],
      "execution_count": 20,
      "outputs": [
        {
          "output_type": "execute_result",
          "data": {
            "text/html": [
              "<div>\n",
              "<style scoped>\n",
              "    .dataframe tbody tr th:only-of-type {\n",
              "        vertical-align: middle;\n",
              "    }\n",
              "\n",
              "    .dataframe tbody tr th {\n",
              "        vertical-align: top;\n",
              "    }\n",
              "\n",
              "    .dataframe thead th {\n",
              "        text-align: right;\n",
              "    }\n",
              "</style>\n",
              "<table border=\"1\" class=\"dataframe\">\n",
              "  <thead>\n",
              "    <tr style=\"text-align: right;\">\n",
              "      <th></th>\n",
              "      <th>Districts</th>\n",
              "      <th>Active cases</th>\n",
              "      <th>Recovered</th>\n",
              "      <th>Deaths</th>\n",
              "      <th>Total cases</th>\n",
              "      <th>Tests</th>\n",
              "    </tr>\n",
              "  </thead>\n",
              "  <tbody>\n",
              "    <tr>\n",
              "      <th>0</th>\n",
              "      <td>Amritsar</td>\n",
              "      <td>277</td>\n",
              "      <td>1039</td>\n",
              "      <td>65</td>\n",
              "      <td>1381</td>\n",
              "      <td>35.6k</td>\n",
              "    </tr>\n",
              "    <tr>\n",
              "      <th>11</th>\n",
              "      <td>Ludhiana</td>\n",
              "      <td>774</td>\n",
              "      <td>1315</td>\n",
              "      <td>49</td>\n",
              "      <td>2138</td>\n",
              "      <td>51.9K</td>\n",
              "    </tr>\n",
              "    <tr>\n",
              "      <th>9</th>\n",
              "      <td>Jalandhar</td>\n",
              "      <td>600</td>\n",
              "      <td>1196</td>\n",
              "      <td>37</td>\n",
              "      <td>1832</td>\n",
              "      <td>32.5K</td>\n",
              "    </tr>\n",
              "    <tr>\n",
              "      <th>20</th>\n",
              "      <td>Sangrur</td>\n",
              "      <td>192</td>\n",
              "      <td>651</td>\n",
              "      <td>22</td>\n",
              "      <td>865</td>\n",
              "      <td>20.5K</td>\n",
              "    </tr>\n",
              "    <tr>\n",
              "      <th>18</th>\n",
              "      <td>Patiala</td>\n",
              "      <td>655</td>\n",
              "      <td>510</td>\n",
              "      <td>19</td>\n",
              "      <td>1184</td>\n",
              "      <td>32.8K</td>\n",
              "    </tr>\n",
              "  </tbody>\n",
              "</table>\n",
              "</div>"
            ],
            "text/plain": [
              "    Districts  Active cases  Recovered  Deaths  Total cases  Tests\n",
              "0    Amritsar           277       1039      65         1381  35.6k\n",
              "11   Ludhiana           774       1315      49         2138  51.9K\n",
              "9   Jalandhar           600       1196      37         1832  32.5K\n",
              "20    Sangrur           192        651      22          865  20.5K\n",
              "18    Patiala           655        510      19         1184  32.8K"
            ]
          },
          "metadata": {
            "tags": []
          },
          "execution_count": 20
        }
      ]
    },
    {
      "cell_type": "code",
      "metadata": {
        "id": "jvbzzh12xKlq",
        "colab_type": "code",
        "colab": {
          "base_uri": "https://localhost:8080/",
          "height": 206
        },
        "outputId": "edbd41a3-963c-4990-d302-12e072d5ecfc"
      },
      "source": [
        "# Top five cities have Maximum Active cases\n",
        "df.sort_values('Active cases',ascending=False).head()"
      ],
      "execution_count": 21,
      "outputs": [
        {
          "output_type": "execute_result",
          "data": {
            "text/html": [
              "<div>\n",
              "<style scoped>\n",
              "    .dataframe tbody tr th:only-of-type {\n",
              "        vertical-align: middle;\n",
              "    }\n",
              "\n",
              "    .dataframe tbody tr th {\n",
              "        vertical-align: top;\n",
              "    }\n",
              "\n",
              "    .dataframe thead th {\n",
              "        text-align: right;\n",
              "    }\n",
              "</style>\n",
              "<table border=\"1\" class=\"dataframe\">\n",
              "  <thead>\n",
              "    <tr style=\"text-align: right;\">\n",
              "      <th></th>\n",
              "      <th>Districts</th>\n",
              "      <th>Active cases</th>\n",
              "      <th>Recovered</th>\n",
              "      <th>Deaths</th>\n",
              "      <th>Total cases</th>\n",
              "      <th>Tests</th>\n",
              "    </tr>\n",
              "  </thead>\n",
              "  <tbody>\n",
              "    <tr>\n",
              "      <th>11</th>\n",
              "      <td>Ludhiana</td>\n",
              "      <td>774</td>\n",
              "      <td>1315</td>\n",
              "      <td>49</td>\n",
              "      <td>2138</td>\n",
              "      <td>51.9K</td>\n",
              "    </tr>\n",
              "    <tr>\n",
              "      <th>18</th>\n",
              "      <td>Patiala</td>\n",
              "      <td>655</td>\n",
              "      <td>510</td>\n",
              "      <td>19</td>\n",
              "      <td>1184</td>\n",
              "      <td>32.8K</td>\n",
              "    </tr>\n",
              "    <tr>\n",
              "      <th>9</th>\n",
              "      <td>Jalandhar</td>\n",
              "      <td>600</td>\n",
              "      <td>1196</td>\n",
              "      <td>37</td>\n",
              "      <td>1832</td>\n",
              "      <td>32.5K</td>\n",
              "    </tr>\n",
              "    <tr>\n",
              "      <th>0</th>\n",
              "      <td>Amritsar</td>\n",
              "      <td>277</td>\n",
              "      <td>1039</td>\n",
              "      <td>65</td>\n",
              "      <td>1381</td>\n",
              "      <td>35.6k</td>\n",
              "    </tr>\n",
              "    <tr>\n",
              "      <th>14</th>\n",
              "      <td>Mohali</td>\n",
              "      <td>214</td>\n",
              "      <td>408</td>\n",
              "      <td>13</td>\n",
              "      <td>635</td>\n",
              "      <td>20.9K</td>\n",
              "    </tr>\n",
              "  </tbody>\n",
              "</table>\n",
              "</div>"
            ],
            "text/plain": [
              "    Districts  Active cases  Recovered  Deaths  Total cases  Tests\n",
              "11   Ludhiana           774       1315      49         2138  51.9K\n",
              "18    Patiala           655        510      19         1184  32.8K\n",
              "9   Jalandhar           600       1196      37         1832  32.5K\n",
              "0    Amritsar           277       1039      65         1381  35.6k\n",
              "14     Mohali           214        408      13          635  20.9K"
            ]
          },
          "metadata": {
            "tags": []
          },
          "execution_count": 21
        }
      ]
    },
    {
      "cell_type": "code",
      "metadata": {
        "id": "b-ZQ1BYwxK_2",
        "colab_type": "code",
        "colab": {
          "base_uri": "https://localhost:8080/",
          "height": 300
        },
        "outputId": "9b0dbc2b-61fa-41f6-ca2e-a26d76bb9bc2"
      },
      "source": [
        "df.describe()"
      ],
      "execution_count": 22,
      "outputs": [
        {
          "output_type": "execute_result",
          "data": {
            "text/html": [
              "<div>\n",
              "<style scoped>\n",
              "    .dataframe tbody tr th:only-of-type {\n",
              "        vertical-align: middle;\n",
              "    }\n",
              "\n",
              "    .dataframe tbody tr th {\n",
              "        vertical-align: top;\n",
              "    }\n",
              "\n",
              "    .dataframe thead th {\n",
              "        text-align: right;\n",
              "    }\n",
              "</style>\n",
              "<table border=\"1\" class=\"dataframe\">\n",
              "  <thead>\n",
              "    <tr style=\"text-align: right;\">\n",
              "      <th></th>\n",
              "      <th>Active cases</th>\n",
              "      <th>Recovered</th>\n",
              "      <th>Deaths</th>\n",
              "      <th>Total cases</th>\n",
              "    </tr>\n",
              "  </thead>\n",
              "  <tbody>\n",
              "    <tr>\n",
              "      <th>count</th>\n",
              "      <td>22.000000</td>\n",
              "      <td>22.000000</td>\n",
              "      <td>22.000000</td>\n",
              "      <td>22.000000</td>\n",
              "    </tr>\n",
              "    <tr>\n",
              "      <th>mean</th>\n",
              "      <td>169.136364</td>\n",
              "      <td>351.863636</td>\n",
              "      <td>12.636364</td>\n",
              "      <td>533.681818</td>\n",
              "    </tr>\n",
              "    <tr>\n",
              "      <th>std</th>\n",
              "      <td>218.951244</td>\n",
              "      <td>368.551385</td>\n",
              "      <td>17.053265</td>\n",
              "      <td>580.250881</td>\n",
              "    </tr>\n",
              "    <tr>\n",
              "      <th>min</th>\n",
              "      <td>20.000000</td>\n",
              "      <td>62.000000</td>\n",
              "      <td>0.000000</td>\n",
              "      <td>90.000000</td>\n",
              "    </tr>\n",
              "    <tr>\n",
              "      <th>25%</th>\n",
              "      <td>35.000000</td>\n",
              "      <td>137.000000</td>\n",
              "      <td>2.000000</td>\n",
              "      <td>207.500000</td>\n",
              "    </tr>\n",
              "    <tr>\n",
              "      <th>50%</th>\n",
              "      <td>76.500000</td>\n",
              "      <td>193.500000</td>\n",
              "      <td>5.500000</td>\n",
              "      <td>256.500000</td>\n",
              "    </tr>\n",
              "    <tr>\n",
              "      <th>75%</th>\n",
              "      <td>184.500000</td>\n",
              "      <td>379.000000</td>\n",
              "      <td>13.000000</td>\n",
              "      <td>571.000000</td>\n",
              "    </tr>\n",
              "    <tr>\n",
              "      <th>max</th>\n",
              "      <td>774.000000</td>\n",
              "      <td>1315.000000</td>\n",
              "      <td>65.000000</td>\n",
              "      <td>2138.000000</td>\n",
              "    </tr>\n",
              "  </tbody>\n",
              "</table>\n",
              "</div>"
            ],
            "text/plain": [
              "       Active cases    Recovered     Deaths  Total cases\n",
              "count     22.000000    22.000000  22.000000    22.000000\n",
              "mean     169.136364   351.863636  12.636364   533.681818\n",
              "std      218.951244   368.551385  17.053265   580.250881\n",
              "min       20.000000    62.000000   0.000000    90.000000\n",
              "25%       35.000000   137.000000   2.000000   207.500000\n",
              "50%       76.500000   193.500000   5.500000   256.500000\n",
              "75%      184.500000   379.000000  13.000000   571.000000\n",
              "max      774.000000  1315.000000  65.000000  2138.000000"
            ]
          },
          "metadata": {
            "tags": []
          },
          "execution_count": 22
        }
      ]
    },
    {
      "cell_type": "code",
      "metadata": {
        "id": "QUov2gdCz5LD",
        "colab_type": "code",
        "colab": {
          "base_uri": "https://localhost:8080/",
          "height": 34
        },
        "outputId": "9def8a92-4ae8-4c58-a1f0-5aec3eb3b9d2"
      },
      "source": [
        "# Average cases has increased by 169 earlier it was recorded 147\n",
        "df['Active cases'].mean()"
      ],
      "execution_count": 23,
      "outputs": [
        {
          "output_type": "execute_result",
          "data": {
            "text/plain": [
              "169.13636363636363"
            ]
          },
          "metadata": {
            "tags": []
          },
          "execution_count": 23
        }
      ]
    }
  ]
}