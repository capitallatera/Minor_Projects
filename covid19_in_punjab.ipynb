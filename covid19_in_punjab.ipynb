{
  "nbformat": 4,
  "nbformat_minor": 0,
  "metadata": {
    "kernelspec": {
      "display_name": "Python 3",
      "language": "python",
      "name": "python3"
    },
    "language_info": {
      "codemirror_mode": {
        "name": "ipython",
        "version": 3
      },
      "file_extension": ".py",
      "mimetype": "text/x-python",
      "name": "python",
      "nbconvert_exporter": "python",
      "pygments_lexer": "ipython3",
      "version": "3.7.4"
    },
    "colab": {
      "name": "covid19 in punjab.ipynb",
      "provenance": [],
      "include_colab_link": true
    }
  },
  "cells": [
    {
      "cell_type": "markdown",
      "metadata": {
        "id": "view-in-github",
        "colab_type": "text"
      },
      "source": [
        "<a href=\"https://colab.research.google.com/github/capitallatera/Minor_Projects/blob/master/covid19_in_punjab.ipynb\" target=\"_parent\"><img src=\"https://colab.research.google.com/assets/colab-badge.svg\" alt=\"Open In Colab\"/></a>"
      ]
    },
    {
      "cell_type": "code",
      "metadata": {
        "id": "fj7SimbBOzOI",
        "colab_type": "code",
        "colab": {}
      },
      "source": [
        "# pip install bs4"
      ],
      "execution_count": 26,
      "outputs": []
    },
    {
      "cell_type": "code",
      "metadata": {
        "id": "z3nv0YALOzOd",
        "colab_type": "code",
        "colab": {}
      },
      "source": [
        "# importing the BeautifulSoup Library\n",
        "import bs4\n",
        "import requests"
      ],
      "execution_count": 27,
      "outputs": []
    },
    {
      "cell_type": "code",
      "metadata": {
        "id": "x21SCmCyOzOv",
        "colab_type": "code",
        "colab": {}
      },
      "source": [
        "res=requests.get(\"https://en.wikipedia.org/wiki/COVID-19_pandemic_in_Punjab,_India\")"
      ],
      "execution_count": 28,
      "outputs": []
    },
    {
      "cell_type": "code",
      "metadata": {
        "id": "UfDiuwhkOzO8",
        "colab_type": "code",
        "colab": {}
      },
      "source": [
        "# Convert the request object to the Beautiful Soup Object\n",
        "soup=bs4.BeautifulSoup(res.text,'html.parser')"
      ],
      "execution_count": 29,
      "outputs": []
    },
    {
      "cell_type": "code",
      "metadata": {
        "id": "4eh0c9F5OzPG",
        "colab_type": "code",
        "colab": {}
      },
      "source": [
        "data=[]\n",
        "data_iterator=iter(soup.find_all('tr'))"
      ],
      "execution_count": 30,
      "outputs": []
    },
    {
      "cell_type": "code",
      "metadata": {
        "id": "F1arcinPOzPW",
        "colab_type": "code",
        "colab": {}
      },
      "source": [
        "while True:\n",
        "    try:\n",
        "        d_1=next(data_iterator).text\n",
        "        \n",
        "        data.append((\n",
        "            d_1\n",
        "        ))\n",
        "    except StopIteration:\n",
        "        break\n",
        "        "
      ],
      "execution_count": 31,
      "outputs": []
    },
    {
      "cell_type": "code",
      "metadata": {
        "id": "c-iKRj9zOzPh",
        "colab_type": "code",
        "colab": {}
      },
      "source": [
        "jj=[]\n",
        "for i in data:\n",
        "    s=i.replace(\"\\n\\n\",',')\n",
        "    s=s.replace('\\n','')\n",
        "    jj.append([s])"
      ],
      "execution_count": 32,
      "outputs": []
    },
    {
      "cell_type": "code",
      "metadata": {
        "id": "--H4W-LeOzPq",
        "colab_type": "code",
        "colab": {
          "base_uri": "https://localhost:8080/",
          "height": 52
        },
        "outputId": "73038129-65d9-424d-d525-0cbe24aafab2"
      },
      "source": [
        "for i,j in zip(jj,range(len(jj))):\n",
        "    if i[0]=='COVID-19 pandemic in Punjab by Districts':\n",
        "        print(i[0],j)\n",
        "    if i[0]=='Date(2020),District,Cases,Deaths':\n",
        "        print(i[0],j)"
      ],
      "execution_count": 33,
      "outputs": [
        {
          "output_type": "stream",
          "text": [
            "COVID-19 pandemic in Punjab by Districts 16\n",
            "Date(2020),District,Cases,Deaths 42\n"
          ],
          "name": "stdout"
        }
      ]
    },
    {
      "cell_type": "code",
      "metadata": {
        "id": "RuzzvCo9OzP0",
        "colab_type": "code",
        "colab": {}
      },
      "source": [
        "llst=[]\n",
        "for i,j in zip(jj,range(len(jj))):\n",
        "    if j>=19 and j<41:\n",
        "        llst.append([i[0]])"
      ],
      "execution_count": 44,
      "outputs": []
    },
    {
      "cell_type": "code",
      "metadata": {
        "scrolled": true,
        "id": "XuQ4kmy-OzP9",
        "colab_type": "code",
        "colab": {}
      },
      "source": [
        "lst=[]\n",
        "for j in range(len(llst)):\n",
        "    ii=llst[j][0].split(',')\n",
        "    lst.append(ii)"
      ],
      "execution_count": 46,
      "outputs": []
    },
    {
      "cell_type": "code",
      "metadata": {
        "id": "SZ2KfDIVOzQH",
        "colab_type": "code",
        "colab": {}
      },
      "source": [
        "import csv\n",
        "fields=['Districts','Active cases','Recovered','Deaths','Total cases','Tests']\n",
        "lst\n",
        "filename='covid19_punjab_dataset.csv'\n",
        "with open(filename,'w') as csvfile:\n",
        "    csvwriter=csv.writer(csvfile)\n",
        "    csvwriter.writerow(fields)\n",
        "    csvwriter.writerows(lst)"
      ],
      "execution_count": 48,
      "outputs": []
    },
    {
      "cell_type": "code",
      "metadata": {
        "id": "Ry53D-cR8SkN",
        "colab_type": "code",
        "colab": {
          "base_uri": "https://localhost:8080/",
          "height": 399
        },
        "outputId": "0d974eb5-c202-4dfc-bd32-599e471d84a8"
      },
      "source": [
        "# llst\n",
        "lst"
      ],
      "execution_count": 47,
      "outputs": [
        {
          "output_type": "execute_result",
          "data": {
            "text/plain": [
              "[['Amritsar', '(55) 305', '(71) 1120', '(1) 66', '1491', '35.6k'],\n",
              " ['Barnala', '(18) 37', '(2) 76', '(1) 3', '116', '9.6K'],\n",
              " ['Bathinda', '(18) 101', '(22) 155', '4', '260', '17.3K'],\n",
              " ['Faridkot', '(10) 104', '154', '0', '258', '12.3K'],\n",
              " ['Fatehgarh Sahib', '(10) 83', '(5) 191', '2', '276', '13.7K'],\n",
              " ['Fazilka', '70', '(4) 137', '1', '208', '11.9K'],\n",
              " ['Firozpur', '(10) 105', '(14) 172', '(1) 6', '283', '12.9K'],\n",
              " ['Gurdaspur', '(16) 51', '299', '13', '363', '21.9K'],\n",
              " ['Hoshiarpur', '(1) 180', '(11) 258', '13', '451', '19.6K'],\n",
              " ['Jalandhar', '(29) 704', '1196', '(1) 38', '1937', '32.5K'],\n",
              " ['Kapurthala', '(10) 53', '132', '9', '194', '14.8K'],\n",
              " ['Ludhiana', '(155) 759', '1514', '(4) 54', '2327', '51.9K'],\n",
              " ['Mansa', '(1) 33', '63', '0', '96', '13.4K'],\n",
              " ['Moga', '(6) 101', '(1) 159', '5', '265', '20.9K'],\n",
              " ['Mohali', '(32) 218', '(22) 448', '13', '679', '16.9K'],\n",
              " ['Muktsar Sahib', '34', '(1) 167', '1', '202', '11.5K'],\n",
              " ['Nawanshahr', '(2) 59', '(9) 230', '2', '291', '13.8K'],\n",
              " ['Pathankot', '(6) 44', '(2) day 256', '11', '311', '10.6K'],\n",
              " ['Patiala', '(40) 764', '510', '20', '1294', '32.8K'],\n",
              " ['Rupnagar', '(6) 29', '(16) 165', '(1) 2', '196', '17.5K'],\n",
              " ['Sangrur', '(38) 226', '(21) 226', '23', '924', '20.5K'],\n",
              " ['Tarn Taran', '(5) 36', '220', '6', '262', '13.4K']]"
            ]
          },
          "metadata": {
            "tags": []
          },
          "execution_count": 47
        }
      ]
    },
    {
      "cell_type": "markdown",
      "metadata": {
        "id": "1hTVKkiPOzQR",
        "colab_type": "text"
      },
      "source": [
        "###  Reading the dataset"
      ]
    },
    {
      "cell_type": "code",
      "metadata": {
        "id": "wqxQ4hPaOzQT",
        "colab_type": "code",
        "colab": {}
      },
      "source": [
        "import pandas as pd"
      ],
      "execution_count": 49,
      "outputs": []
    },
    {
      "cell_type": "code",
      "metadata": {
        "id": "jJ5R4IDJOzQb",
        "colab_type": "code",
        "colab": {
          "base_uri": "https://localhost:8080/",
          "height": 143
        },
        "outputId": "1d2f8588-814d-4eaf-b173-1f5ca45af01b"
      },
      "source": [
        "df=pd.read_csv('covid19_punjab_dataset.csv')\n",
        "df.head(3)"
      ],
      "execution_count": 58,
      "outputs": [
        {
          "output_type": "execute_result",
          "data": {
            "text/html": [
              "<div>\n",
              "<style scoped>\n",
              "    .dataframe tbody tr th:only-of-type {\n",
              "        vertical-align: middle;\n",
              "    }\n",
              "\n",
              "    .dataframe tbody tr th {\n",
              "        vertical-align: top;\n",
              "    }\n",
              "\n",
              "    .dataframe thead th {\n",
              "        text-align: right;\n",
              "    }\n",
              "</style>\n",
              "<table border=\"1\" class=\"dataframe\">\n",
              "  <thead>\n",
              "    <tr style=\"text-align: right;\">\n",
              "      <th></th>\n",
              "      <th>Districts</th>\n",
              "      <th>Active cases</th>\n",
              "      <th>Recovered</th>\n",
              "      <th>Deaths</th>\n",
              "      <th>Total cases</th>\n",
              "      <th>Tests</th>\n",
              "    </tr>\n",
              "  </thead>\n",
              "  <tbody>\n",
              "    <tr>\n",
              "      <th>0</th>\n",
              "      <td>Amritsar</td>\n",
              "      <td>(55) 305</td>\n",
              "      <td>(71) 1120</td>\n",
              "      <td>(1) 66</td>\n",
              "      <td>1491</td>\n",
              "      <td>35.6k</td>\n",
              "    </tr>\n",
              "    <tr>\n",
              "      <th>1</th>\n",
              "      <td>Barnala</td>\n",
              "      <td>(18) 37</td>\n",
              "      <td>(2) 76</td>\n",
              "      <td>(1) 3</td>\n",
              "      <td>116</td>\n",
              "      <td>9.6K</td>\n",
              "    </tr>\n",
              "    <tr>\n",
              "      <th>2</th>\n",
              "      <td>Bathinda</td>\n",
              "      <td>(18) 101</td>\n",
              "      <td>(22) 155</td>\n",
              "      <td>4</td>\n",
              "      <td>260</td>\n",
              "      <td>17.3K</td>\n",
              "    </tr>\n",
              "  </tbody>\n",
              "</table>\n",
              "</div>"
            ],
            "text/plain": [
              "  Districts Active cases  Recovered  Deaths  Total cases  Tests\n",
              "0  Amritsar     (55) 305  (71) 1120  (1) 66         1491  35.6k\n",
              "1   Barnala      (18) 37     (2) 76   (1) 3          116   9.6K\n",
              "2  Bathinda     (18) 101   (22) 155       4          260  17.3K"
            ]
          },
          "metadata": {
            "tags": []
          },
          "execution_count": 58
        }
      ]
    },
    {
      "cell_type": "code",
      "metadata": {
        "id": "S8Y-HfX2OzQn",
        "colab_type": "code",
        "colab": {}
      },
      "source": [
        "# # remove the parenthesis area\n",
        "# s='a(12)b'\n",
        "# import re\n",
        "# re.sub(r\" ?\\([^)]+\\)\", \"\", s) "
      ],
      "execution_count": 14,
      "outputs": []
    },
    {
      "cell_type": "code",
      "metadata": {
        "id": "PTGkxAlDOzQv",
        "colab_type": "code",
        "colab": {
          "base_uri": "https://localhost:8080/",
          "height": 112
        },
        "outputId": "1639bfbc-1f73-4fba-9b1c-3561f8c9ac7b"
      },
      "source": [
        "df.head(2)"
      ],
      "execution_count": 59,
      "outputs": [
        {
          "output_type": "execute_result",
          "data": {
            "text/html": [
              "<div>\n",
              "<style scoped>\n",
              "    .dataframe tbody tr th:only-of-type {\n",
              "        vertical-align: middle;\n",
              "    }\n",
              "\n",
              "    .dataframe tbody tr th {\n",
              "        vertical-align: top;\n",
              "    }\n",
              "\n",
              "    .dataframe thead th {\n",
              "        text-align: right;\n",
              "    }\n",
              "</style>\n",
              "<table border=\"1\" class=\"dataframe\">\n",
              "  <thead>\n",
              "    <tr style=\"text-align: right;\">\n",
              "      <th></th>\n",
              "      <th>Districts</th>\n",
              "      <th>Active cases</th>\n",
              "      <th>Recovered</th>\n",
              "      <th>Deaths</th>\n",
              "      <th>Total cases</th>\n",
              "      <th>Tests</th>\n",
              "    </tr>\n",
              "  </thead>\n",
              "  <tbody>\n",
              "    <tr>\n",
              "      <th>0</th>\n",
              "      <td>Amritsar</td>\n",
              "      <td>(55) 305</td>\n",
              "      <td>(71) 1120</td>\n",
              "      <td>(1) 66</td>\n",
              "      <td>1491</td>\n",
              "      <td>35.6k</td>\n",
              "    </tr>\n",
              "    <tr>\n",
              "      <th>1</th>\n",
              "      <td>Barnala</td>\n",
              "      <td>(18) 37</td>\n",
              "      <td>(2) 76</td>\n",
              "      <td>(1) 3</td>\n",
              "      <td>116</td>\n",
              "      <td>9.6K</td>\n",
              "    </tr>\n",
              "  </tbody>\n",
              "</table>\n",
              "</div>"
            ],
            "text/plain": [
              "  Districts Active cases  Recovered  Deaths  Total cases  Tests\n",
              "0  Amritsar     (55) 305  (71) 1120  (1) 66         1491  35.6k\n",
              "1   Barnala      (18) 37     (2) 76   (1) 3          116   9.6K"
            ]
          },
          "metadata": {
            "tags": []
          },
          "execution_count": 59
        }
      ]
    },
    {
      "cell_type": "code",
      "metadata": {
        "id": "XkVW-H5LOzQ7",
        "colab_type": "code",
        "colab": {}
      },
      "source": [
        "import re\n",
        "df['Active cases']=df['Active cases'].apply(lambda x:re.sub(r\" ?\\([^)]+\\)\",\"\", x))"
      ],
      "execution_count": 60,
      "outputs": []
    },
    {
      "cell_type": "code",
      "metadata": {
        "id": "ZUjIaSjUOzRH",
        "colab_type": "code",
        "colab": {}
      },
      "source": [
        "df['Recovered']=df['Recovered'].apply(lambda x:re.sub(r\" ?\\([^)]+\\)\", \"\", x))"
      ],
      "execution_count": 61,
      "outputs": []
    },
    {
      "cell_type": "code",
      "metadata": {
        "id": "77ER65KLOzRO",
        "colab_type": "code",
        "colab": {}
      },
      "source": [
        "df['Deaths']=df['Deaths'].apply(lambda x:re.sub(r\" ?\\([^)]+\\)\",\"\", x))"
      ],
      "execution_count": 62,
      "outputs": []
    },
    {
      "cell_type": "code",
      "metadata": {
        "id": "j0Fi4xG4OzRV",
        "colab_type": "code",
        "colab": {}
      },
      "source": [
        "df['Active cases']=df['Active cases'].map(lambda x: int(x))\n",
        "# df['Recovered']=df['Recovered'].map(lambda x: int(x))\n",
        "df['Deaths']=df['Deaths'].map(lambda x: int(x))"
      ],
      "execution_count": 64,
      "outputs": []
    },
    {
      "cell_type": "code",
      "metadata": {
        "id": "L_-kenhQOzRb",
        "colab_type": "code",
        "colab": {
          "base_uri": "https://localhost:8080/",
          "height": 206
        },
        "outputId": "26abaf8c-bc69-43d9-b1c4-84b21b044e5d"
      },
      "source": [
        "# Top five cities have Maximum Deaths\n",
        "df.sort_values('Deaths',ascending=False).head()"
      ],
      "execution_count": 65,
      "outputs": [
        {
          "output_type": "execute_result",
          "data": {
            "text/html": [
              "<div>\n",
              "<style scoped>\n",
              "    .dataframe tbody tr th:only-of-type {\n",
              "        vertical-align: middle;\n",
              "    }\n",
              "\n",
              "    .dataframe tbody tr th {\n",
              "        vertical-align: top;\n",
              "    }\n",
              "\n",
              "    .dataframe thead th {\n",
              "        text-align: right;\n",
              "    }\n",
              "</style>\n",
              "<table border=\"1\" class=\"dataframe\">\n",
              "  <thead>\n",
              "    <tr style=\"text-align: right;\">\n",
              "      <th></th>\n",
              "      <th>Districts</th>\n",
              "      <th>Active cases</th>\n",
              "      <th>Recovered</th>\n",
              "      <th>Deaths</th>\n",
              "      <th>Total cases</th>\n",
              "      <th>Tests</th>\n",
              "    </tr>\n",
              "  </thead>\n",
              "  <tbody>\n",
              "    <tr>\n",
              "      <th>0</th>\n",
              "      <td>Amritsar</td>\n",
              "      <td>305</td>\n",
              "      <td>1120</td>\n",
              "      <td>66</td>\n",
              "      <td>1491</td>\n",
              "      <td>35.6k</td>\n",
              "    </tr>\n",
              "    <tr>\n",
              "      <th>11</th>\n",
              "      <td>Ludhiana</td>\n",
              "      <td>759</td>\n",
              "      <td>1514</td>\n",
              "      <td>54</td>\n",
              "      <td>2327</td>\n",
              "      <td>51.9K</td>\n",
              "    </tr>\n",
              "    <tr>\n",
              "      <th>9</th>\n",
              "      <td>Jalandhar</td>\n",
              "      <td>704</td>\n",
              "      <td>1196</td>\n",
              "      <td>38</td>\n",
              "      <td>1937</td>\n",
              "      <td>32.5K</td>\n",
              "    </tr>\n",
              "    <tr>\n",
              "      <th>20</th>\n",
              "      <td>Sangrur</td>\n",
              "      <td>226</td>\n",
              "      <td>226</td>\n",
              "      <td>23</td>\n",
              "      <td>924</td>\n",
              "      <td>20.5K</td>\n",
              "    </tr>\n",
              "    <tr>\n",
              "      <th>18</th>\n",
              "      <td>Patiala</td>\n",
              "      <td>764</td>\n",
              "      <td>510</td>\n",
              "      <td>20</td>\n",
              "      <td>1294</td>\n",
              "      <td>32.8K</td>\n",
              "    </tr>\n",
              "  </tbody>\n",
              "</table>\n",
              "</div>"
            ],
            "text/plain": [
              "    Districts  Active cases Recovered  Deaths  Total cases  Tests\n",
              "0    Amritsar           305      1120      66         1491  35.6k\n",
              "11   Ludhiana           759      1514      54         2327  51.9K\n",
              "9   Jalandhar           704      1196      38         1937  32.5K\n",
              "20    Sangrur           226       226      23          924  20.5K\n",
              "18    Patiala           764       510      20         1294  32.8K"
            ]
          },
          "metadata": {
            "tags": []
          },
          "execution_count": 65
        }
      ]
    },
    {
      "cell_type": "code",
      "metadata": {
        "id": "jvbzzh12xKlq",
        "colab_type": "code",
        "colab": {
          "base_uri": "https://localhost:8080/",
          "height": 206
        },
        "outputId": "334de9c2-890f-41c6-a4ba-212430ebb7d5"
      },
      "source": [
        "# Top five cities have Maximum Active cases\n",
        "df.sort_values('Active cases',ascending=False).head()"
      ],
      "execution_count": 66,
      "outputs": [
        {
          "output_type": "execute_result",
          "data": {
            "text/html": [
              "<div>\n",
              "<style scoped>\n",
              "    .dataframe tbody tr th:only-of-type {\n",
              "        vertical-align: middle;\n",
              "    }\n",
              "\n",
              "    .dataframe tbody tr th {\n",
              "        vertical-align: top;\n",
              "    }\n",
              "\n",
              "    .dataframe thead th {\n",
              "        text-align: right;\n",
              "    }\n",
              "</style>\n",
              "<table border=\"1\" class=\"dataframe\">\n",
              "  <thead>\n",
              "    <tr style=\"text-align: right;\">\n",
              "      <th></th>\n",
              "      <th>Districts</th>\n",
              "      <th>Active cases</th>\n",
              "      <th>Recovered</th>\n",
              "      <th>Deaths</th>\n",
              "      <th>Total cases</th>\n",
              "      <th>Tests</th>\n",
              "    </tr>\n",
              "  </thead>\n",
              "  <tbody>\n",
              "    <tr>\n",
              "      <th>18</th>\n",
              "      <td>Patiala</td>\n",
              "      <td>764</td>\n",
              "      <td>510</td>\n",
              "      <td>20</td>\n",
              "      <td>1294</td>\n",
              "      <td>32.8K</td>\n",
              "    </tr>\n",
              "    <tr>\n",
              "      <th>11</th>\n",
              "      <td>Ludhiana</td>\n",
              "      <td>759</td>\n",
              "      <td>1514</td>\n",
              "      <td>54</td>\n",
              "      <td>2327</td>\n",
              "      <td>51.9K</td>\n",
              "    </tr>\n",
              "    <tr>\n",
              "      <th>9</th>\n",
              "      <td>Jalandhar</td>\n",
              "      <td>704</td>\n",
              "      <td>1196</td>\n",
              "      <td>38</td>\n",
              "      <td>1937</td>\n",
              "      <td>32.5K</td>\n",
              "    </tr>\n",
              "    <tr>\n",
              "      <th>0</th>\n",
              "      <td>Amritsar</td>\n",
              "      <td>305</td>\n",
              "      <td>1120</td>\n",
              "      <td>66</td>\n",
              "      <td>1491</td>\n",
              "      <td>35.6k</td>\n",
              "    </tr>\n",
              "    <tr>\n",
              "      <th>20</th>\n",
              "      <td>Sangrur</td>\n",
              "      <td>226</td>\n",
              "      <td>226</td>\n",
              "      <td>23</td>\n",
              "      <td>924</td>\n",
              "      <td>20.5K</td>\n",
              "    </tr>\n",
              "  </tbody>\n",
              "</table>\n",
              "</div>"
            ],
            "text/plain": [
              "    Districts  Active cases Recovered  Deaths  Total cases  Tests\n",
              "18    Patiala           764       510      20         1294  32.8K\n",
              "11   Ludhiana           759      1514      54         2327  51.9K\n",
              "9   Jalandhar           704      1196      38         1937  32.5K\n",
              "0    Amritsar           305      1120      66         1491  35.6k\n",
              "20    Sangrur           226       226      23          924  20.5K"
            ]
          },
          "metadata": {
            "tags": []
          },
          "execution_count": 66
        }
      ]
    },
    {
      "cell_type": "code",
      "metadata": {
        "id": "b-ZQ1BYwxK_2",
        "colab_type": "code",
        "colab": {
          "base_uri": "https://localhost:8080/",
          "height": 300
        },
        "outputId": "2783c9a0-e456-4297-8885-2aaec653b98b"
      },
      "source": [
        "df.describe()"
      ],
      "execution_count": 67,
      "outputs": [
        {
          "output_type": "execute_result",
          "data": {
            "text/html": [
              "<div>\n",
              "<style scoped>\n",
              "    .dataframe tbody tr th:only-of-type {\n",
              "        vertical-align: middle;\n",
              "    }\n",
              "\n",
              "    .dataframe tbody tr th {\n",
              "        vertical-align: top;\n",
              "    }\n",
              "\n",
              "    .dataframe thead th {\n",
              "        text-align: right;\n",
              "    }\n",
              "</style>\n",
              "<table border=\"1\" class=\"dataframe\">\n",
              "  <thead>\n",
              "    <tr style=\"text-align: right;\">\n",
              "      <th></th>\n",
              "      <th>Active cases</th>\n",
              "      <th>Deaths</th>\n",
              "      <th>Total cases</th>\n",
              "    </tr>\n",
              "  </thead>\n",
              "  <tbody>\n",
              "    <tr>\n",
              "      <th>count</th>\n",
              "      <td>22.000000</td>\n",
              "      <td>22.000000</td>\n",
              "      <td>22.000000</td>\n",
              "    </tr>\n",
              "    <tr>\n",
              "      <th>mean</th>\n",
              "      <td>186.181818</td>\n",
              "      <td>13.272727</td>\n",
              "      <td>576.545455</td>\n",
              "    </tr>\n",
              "    <tr>\n",
              "      <th>std</th>\n",
              "      <td>237.790151</td>\n",
              "      <td>17.747386</td>\n",
              "      <td>624.690074</td>\n",
              "    </tr>\n",
              "    <tr>\n",
              "      <th>min</th>\n",
              "      <td>29.000000</td>\n",
              "      <td>0.000000</td>\n",
              "      <td>96.000000</td>\n",
              "    </tr>\n",
              "    <tr>\n",
              "      <th>25%</th>\n",
              "      <td>45.750000</td>\n",
              "      <td>2.000000</td>\n",
              "      <td>220.500000</td>\n",
              "    </tr>\n",
              "    <tr>\n",
              "      <th>50%</th>\n",
              "      <td>92.000000</td>\n",
              "      <td>6.000000</td>\n",
              "      <td>279.500000</td>\n",
              "    </tr>\n",
              "    <tr>\n",
              "      <th>75%</th>\n",
              "      <td>208.500000</td>\n",
              "      <td>13.000000</td>\n",
              "      <td>622.000000</td>\n",
              "    </tr>\n",
              "    <tr>\n",
              "      <th>max</th>\n",
              "      <td>764.000000</td>\n",
              "      <td>66.000000</td>\n",
              "      <td>2327.000000</td>\n",
              "    </tr>\n",
              "  </tbody>\n",
              "</table>\n",
              "</div>"
            ],
            "text/plain": [
              "       Active cases     Deaths  Total cases\n",
              "count     22.000000  22.000000    22.000000\n",
              "mean     186.181818  13.272727   576.545455\n",
              "std      237.790151  17.747386   624.690074\n",
              "min       29.000000   0.000000    96.000000\n",
              "25%       45.750000   2.000000   220.500000\n",
              "50%       92.000000   6.000000   279.500000\n",
              "75%      208.500000  13.000000   622.000000\n",
              "max      764.000000  66.000000  2327.000000"
            ]
          },
          "metadata": {
            "tags": []
          },
          "execution_count": 67
        }
      ]
    },
    {
      "cell_type": "code",
      "metadata": {
        "id": "QUov2gdCz5LD",
        "colab_type": "code",
        "colab": {
          "base_uri": "https://localhost:8080/",
          "height": 34
        },
        "outputId": "043f2429-9d06-4ff5-926c-9542efc7fc53"
      },
      "source": [
        "# Average cases has increased by 186 earlier it was recorded 174\n",
        "df['Active cases'].mean()"
      ],
      "execution_count": 68,
      "outputs": [
        {
          "output_type": "execute_result",
          "data": {
            "text/plain": [
              "186.1818181818182"
            ]
          },
          "metadata": {
            "tags": []
          },
          "execution_count": 68
        }
      ]
    }
  ]
}