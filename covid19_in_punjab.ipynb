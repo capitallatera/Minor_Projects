{
  "nbformat": 4,
  "nbformat_minor": 0,
  "metadata": {
    "kernelspec": {
      "display_name": "Python 3",
      "language": "python",
      "name": "python3"
    },
    "language_info": {
      "codemirror_mode": {
        "name": "ipython",
        "version": 3
      },
      "file_extension": ".py",
      "mimetype": "text/x-python",
      "name": "python",
      "nbconvert_exporter": "python",
      "pygments_lexer": "ipython3",
      "version": "3.7.4"
    },
    "colab": {
      "name": "covid19 in punjab.ipynb",
      "provenance": [],
      "include_colab_link": true
    }
  },
  "cells": [
    {
      "cell_type": "markdown",
      "metadata": {
        "id": "view-in-github",
        "colab_type": "text"
      },
      "source": [
        "<a href=\"https://colab.research.google.com/github/capitallatera/Minor_Projects/blob/master/covid19_in_punjab.ipynb\" target=\"_parent\"><img src=\"https://colab.research.google.com/assets/colab-badge.svg\" alt=\"Open In Colab\"/></a>"
      ]
    },
    {
      "cell_type": "code",
      "metadata": {
        "id": "fj7SimbBOzOI",
        "colab_type": "code",
        "colab": {}
      },
      "source": [
        "# pip install bs4"
      ],
      "execution_count": 1,
      "outputs": []
    },
    {
      "cell_type": "code",
      "metadata": {
        "id": "z3nv0YALOzOd",
        "colab_type": "code",
        "colab": {}
      },
      "source": [
        "# importing the BeautifulSoup Library\n",
        "import bs4\n",
        "import requests"
      ],
      "execution_count": 2,
      "outputs": []
    },
    {
      "cell_type": "code",
      "metadata": {
        "id": "x21SCmCyOzOv",
        "colab_type": "code",
        "colab": {}
      },
      "source": [
        "res=requests.get(\"https://en.wikipedia.org/wiki/COVID-19_pandemic_in_Punjab,_India\")"
      ],
      "execution_count": 3,
      "outputs": []
    },
    {
      "cell_type": "code",
      "metadata": {
        "id": "UfDiuwhkOzO8",
        "colab_type": "code",
        "colab": {}
      },
      "source": [
        "# Convert the request object to the Beautiful Soup Object\n",
        "soup=bs4.BeautifulSoup(res.text,'html.parser')"
      ],
      "execution_count": 4,
      "outputs": []
    },
    {
      "cell_type": "code",
      "metadata": {
        "id": "4eh0c9F5OzPG",
        "colab_type": "code",
        "colab": {}
      },
      "source": [
        "data=[]\n",
        "data_iterator=iter(soup.find_all('tr'))"
      ],
      "execution_count": 5,
      "outputs": []
    },
    {
      "cell_type": "code",
      "metadata": {
        "id": "F1arcinPOzPW",
        "colab_type": "code",
        "colab": {}
      },
      "source": [
        "while True:\n",
        "    try:\n",
        "        d_1=next(data_iterator).text\n",
        "        \n",
        "        data.append((\n",
        "            d_1\n",
        "        ))\n",
        "    except StopIteration:\n",
        "        break\n",
        "        "
      ],
      "execution_count": 6,
      "outputs": []
    },
    {
      "cell_type": "code",
      "metadata": {
        "id": "c-iKRj9zOzPh",
        "colab_type": "code",
        "colab": {}
      },
      "source": [
        "jj=[]\n",
        "for i in data:\n",
        "    s=i.replace(\"\\n\\n\",',')\n",
        "    s=s.replace('\\n','')\n",
        "    jj.append([s])"
      ],
      "execution_count": 7,
      "outputs": []
    },
    {
      "cell_type": "code",
      "metadata": {
        "id": "--H4W-LeOzPq",
        "colab_type": "code",
        "colab": {
          "base_uri": "https://localhost:8080/",
          "height": 52
        },
        "outputId": "4ff1d4de-a981-4bb0-cb3d-8a14b4901e67"
      },
      "source": [
        "for i,j in zip(jj,range(len(jj))):\n",
        "    if i[0]=='COVID-19 pandemic in Punjab by Districts':\n",
        "        print(i[0],j)\n",
        "    if i[0]=='Date(2020),District,Cases,Deaths':\n",
        "        print(i[0],j)"
      ],
      "execution_count": 8,
      "outputs": [
        {
          "output_type": "stream",
          "text": [
            "COVID-19 pandemic in Punjab by Districts 15\n",
            "Date(2020),District,Cases,Deaths 41\n"
          ],
          "name": "stdout"
        }
      ]
    },
    {
      "cell_type": "code",
      "metadata": {
        "id": "RuzzvCo9OzP0",
        "colab_type": "code",
        "colab": {}
      },
      "source": [
        "llst=[]\n",
        "for i,j in zip(jj,range(len(jj))):\n",
        "    if j>=18 and j<40:\n",
        "        llst.append([i[0]])"
      ],
      "execution_count": 9,
      "outputs": []
    },
    {
      "cell_type": "code",
      "metadata": {
        "scrolled": true,
        "id": "XuQ4kmy-OzP9",
        "colab_type": "code",
        "colab": {}
      },
      "source": [
        "lst=[]\n",
        "for j in range(len(llst)):\n",
        "    ii=llst[j][0].split(',')\n",
        "    lst.append(ii)"
      ],
      "execution_count": 10,
      "outputs": []
    },
    {
      "cell_type": "code",
      "metadata": {
        "id": "SZ2KfDIVOzQH",
        "colab_type": "code",
        "colab": {}
      },
      "source": [
        "import csv\n",
        "fields=['Districts','Active cases','Recovered','Deaths','Total cases','Tests']\n",
        "lst\n",
        "filename='covid19_punjab_dataset.csv'\n",
        "with open(filename,'w') as csvfile:\n",
        "    csvwriter=csv.writer(csvfile)\n",
        "    csvwriter.writerow(fields)\n",
        "    csvwriter.writerows(lst)"
      ],
      "execution_count": 11,
      "outputs": []
    },
    {
      "cell_type": "markdown",
      "metadata": {
        "id": "1hTVKkiPOzQR",
        "colab_type": "text"
      },
      "source": [
        "###  Reading the dataset"
      ]
    },
    {
      "cell_type": "code",
      "metadata": {
        "id": "wqxQ4hPaOzQT",
        "colab_type": "code",
        "colab": {}
      },
      "source": [
        "import pandas as pd"
      ],
      "execution_count": 12,
      "outputs": []
    },
    {
      "cell_type": "code",
      "metadata": {
        "id": "jJ5R4IDJOzQb",
        "colab_type": "code",
        "colab": {
          "base_uri": "https://localhost:8080/",
          "height": 143
        },
        "outputId": "ba2881fa-d1ce-453e-fc68-b64abfa3ebc6"
      },
      "source": [
        "df=pd.read_csv('covid19_punjab_dataset.csv')\n",
        "df.head(3)"
      ],
      "execution_count": 13,
      "outputs": [
        {
          "output_type": "execute_result",
          "data": {
            "text/html": [
              "<div>\n",
              "<style scoped>\n",
              "    .dataframe tbody tr th:only-of-type {\n",
              "        vertical-align: middle;\n",
              "    }\n",
              "\n",
              "    .dataframe tbody tr th {\n",
              "        vertical-align: top;\n",
              "    }\n",
              "\n",
              "    .dataframe thead th {\n",
              "        text-align: right;\n",
              "    }\n",
              "</style>\n",
              "<table border=\"1\" class=\"dataframe\">\n",
              "  <thead>\n",
              "    <tr style=\"text-align: right;\">\n",
              "      <th></th>\n",
              "      <th>Districts</th>\n",
              "      <th>Active cases</th>\n",
              "      <th>Recovered</th>\n",
              "      <th>Deaths</th>\n",
              "      <th>Total cases</th>\n",
              "      <th>Tests</th>\n",
              "    </tr>\n",
              "  </thead>\n",
              "  <tbody>\n",
              "    <tr>\n",
              "      <th>0</th>\n",
              "      <td>Amritsar</td>\n",
              "      <td>292</td>\n",
              "      <td>992</td>\n",
              "      <td>64</td>\n",
              "      <td>1348</td>\n",
              "      <td>32.9k</td>\n",
              "    </tr>\n",
              "    <tr>\n",
              "      <th>1</th>\n",
              "      <td>Barnala</td>\n",
              "      <td>12</td>\n",
              "      <td>70</td>\n",
              "      <td>2</td>\n",
              "      <td>84</td>\n",
              "      <td>9K</td>\n",
              "    </tr>\n",
              "    <tr>\n",
              "      <th>2</th>\n",
              "      <td>Bathinda</td>\n",
              "      <td>63</td>\n",
              "      <td>132</td>\n",
              "      <td>4</td>\n",
              "      <td>199</td>\n",
              "      <td>16.1K</td>\n",
              "    </tr>\n",
              "  </tbody>\n",
              "</table>\n",
              "</div>"
            ],
            "text/plain": [
              "  Districts  Active cases  Recovered  Deaths  Total cases  Tests\n",
              "0  Amritsar           292        992      64         1348  32.9k\n",
              "1   Barnala            12         70       2           84     9K\n",
              "2  Bathinda            63        132       4          199  16.1K"
            ]
          },
          "metadata": {
            "tags": []
          },
          "execution_count": 13
        }
      ]
    },
    {
      "cell_type": "code",
      "metadata": {
        "id": "S8Y-HfX2OzQn",
        "colab_type": "code",
        "colab": {}
      },
      "source": [
        "# # remove the parenthesis area\n",
        "# s='a(12)b'\n",
        "# import re\n",
        "# re.sub(r\" ?\\([^)]+\\)\", \"\", s) "
      ],
      "execution_count": 14,
      "outputs": []
    },
    {
      "cell_type": "code",
      "metadata": {
        "id": "PTGkxAlDOzQv",
        "colab_type": "code",
        "colab": {
          "base_uri": "https://localhost:8080/",
          "height": 112
        },
        "outputId": "f2fc75e8-783f-49a8-a938-1a1b276adb62"
      },
      "source": [
        "df.head(2)"
      ],
      "execution_count": 15,
      "outputs": [
        {
          "output_type": "execute_result",
          "data": {
            "text/html": [
              "<div>\n",
              "<style scoped>\n",
              "    .dataframe tbody tr th:only-of-type {\n",
              "        vertical-align: middle;\n",
              "    }\n",
              "\n",
              "    .dataframe tbody tr th {\n",
              "        vertical-align: top;\n",
              "    }\n",
              "\n",
              "    .dataframe thead th {\n",
              "        text-align: right;\n",
              "    }\n",
              "</style>\n",
              "<table border=\"1\" class=\"dataframe\">\n",
              "  <thead>\n",
              "    <tr style=\"text-align: right;\">\n",
              "      <th></th>\n",
              "      <th>Districts</th>\n",
              "      <th>Active cases</th>\n",
              "      <th>Recovered</th>\n",
              "      <th>Deaths</th>\n",
              "      <th>Total cases</th>\n",
              "      <th>Tests</th>\n",
              "    </tr>\n",
              "  </thead>\n",
              "  <tbody>\n",
              "    <tr>\n",
              "      <th>0</th>\n",
              "      <td>Amritsar</td>\n",
              "      <td>292</td>\n",
              "      <td>992</td>\n",
              "      <td>64</td>\n",
              "      <td>1348</td>\n",
              "      <td>32.9k</td>\n",
              "    </tr>\n",
              "    <tr>\n",
              "      <th>1</th>\n",
              "      <td>Barnala</td>\n",
              "      <td>12</td>\n",
              "      <td>70</td>\n",
              "      <td>2</td>\n",
              "      <td>84</td>\n",
              "      <td>9K</td>\n",
              "    </tr>\n",
              "  </tbody>\n",
              "</table>\n",
              "</div>"
            ],
            "text/plain": [
              "  Districts  Active cases  Recovered  Deaths  Total cases  Tests\n",
              "0  Amritsar           292        992      64         1348  32.9k\n",
              "1   Barnala            12         70       2           84     9K"
            ]
          },
          "metadata": {
            "tags": []
          },
          "execution_count": 15
        }
      ]
    },
    {
      "cell_type": "code",
      "metadata": {
        "id": "XkVW-H5LOzQ7",
        "colab_type": "code",
        "colab": {}
      },
      "source": [
        "import re\n",
        "# df['Active cases']=df['Active cases'].apply(lambda x:re.sub(r\" ?\\([^)]+\\)\",\"\", x))"
      ],
      "execution_count": 17,
      "outputs": []
    },
    {
      "cell_type": "code",
      "metadata": {
        "id": "ZUjIaSjUOzRH",
        "colab_type": "code",
        "colab": {}
      },
      "source": [
        "# df['Recovered']=df['Recovered'].apply(lambda x:re.sub(r\" ?\\([^)]+\\)\", \"\", x))"
      ],
      "execution_count": 19,
      "outputs": []
    },
    {
      "cell_type": "code",
      "metadata": {
        "id": "77ER65KLOzRO",
        "colab_type": "code",
        "colab": {}
      },
      "source": [
        "# df['Deaths']=df['Deaths'].apply(lambda x:re.sub(r\" ?\\([^)]+\\)\",\"\", x))"
      ],
      "execution_count": 21,
      "outputs": []
    },
    {
      "cell_type": "code",
      "metadata": {
        "id": "j0Fi4xG4OzRV",
        "colab_type": "code",
        "colab": {}
      },
      "source": [
        "df['Active cases']=df['Active cases'].map(lambda x: int(x))\n",
        "df['Deaths']=df['Deaths'].map(lambda x: int(x))"
      ],
      "execution_count": 22,
      "outputs": []
    },
    {
      "cell_type": "code",
      "metadata": {
        "id": "L_-kenhQOzRb",
        "colab_type": "code",
        "colab": {
          "base_uri": "https://localhost:8080/",
          "height": 206
        },
        "outputId": "0a0a27a3-480e-4ee5-9cbd-a90c2cb8cc6c"
      },
      "source": [
        "# Top five cities have Maximum Deaths\n",
        "df.sort_values('Deaths',ascending=False).head()"
      ],
      "execution_count": 23,
      "outputs": [
        {
          "output_type": "execute_result",
          "data": {
            "text/html": [
              "<div>\n",
              "<style scoped>\n",
              "    .dataframe tbody tr th:only-of-type {\n",
              "        vertical-align: middle;\n",
              "    }\n",
              "\n",
              "    .dataframe tbody tr th {\n",
              "        vertical-align: top;\n",
              "    }\n",
              "\n",
              "    .dataframe thead th {\n",
              "        text-align: right;\n",
              "    }\n",
              "</style>\n",
              "<table border=\"1\" class=\"dataframe\">\n",
              "  <thead>\n",
              "    <tr style=\"text-align: right;\">\n",
              "      <th></th>\n",
              "      <th>Districts</th>\n",
              "      <th>Active cases</th>\n",
              "      <th>Recovered</th>\n",
              "      <th>Deaths</th>\n",
              "      <th>Total cases</th>\n",
              "      <th>Tests</th>\n",
              "    </tr>\n",
              "  </thead>\n",
              "  <tbody>\n",
              "    <tr>\n",
              "      <th>0</th>\n",
              "      <td>Amritsar</td>\n",
              "      <td>292</td>\n",
              "      <td>992</td>\n",
              "      <td>64</td>\n",
              "      <td>1348</td>\n",
              "      <td>32.9k</td>\n",
              "    </tr>\n",
              "    <tr>\n",
              "      <th>11</th>\n",
              "      <td>Ludhiana</td>\n",
              "      <td>632</td>\n",
              "      <td>1309</td>\n",
              "      <td>48</td>\n",
              "      <td>1989</td>\n",
              "      <td>48.2K</td>\n",
              "    </tr>\n",
              "    <tr>\n",
              "      <th>9</th>\n",
              "      <td>Jalandhar</td>\n",
              "      <td>552</td>\n",
              "      <td>1511</td>\n",
              "      <td>33</td>\n",
              "      <td>1736</td>\n",
              "      <td>30.1K</td>\n",
              "    </tr>\n",
              "    <tr>\n",
              "      <th>20</th>\n",
              "      <td>Sangrur</td>\n",
              "      <td>170</td>\n",
              "      <td>635</td>\n",
              "      <td>22</td>\n",
              "      <td>827</td>\n",
              "      <td>19.4K</td>\n",
              "    </tr>\n",
              "    <tr>\n",
              "      <th>18</th>\n",
              "      <td>Patiala</td>\n",
              "      <td>644</td>\n",
              "      <td>421</td>\n",
              "      <td>16</td>\n",
              "      <td>1081</td>\n",
              "      <td>29.8K</td>\n",
              "    </tr>\n",
              "  </tbody>\n",
              "</table>\n",
              "</div>"
            ],
            "text/plain": [
              "    Districts  Active cases  Recovered  Deaths  Total cases  Tests\n",
              "0    Amritsar           292        992      64         1348  32.9k\n",
              "11   Ludhiana           632       1309      48         1989  48.2K\n",
              "9   Jalandhar           552       1511      33         1736  30.1K\n",
              "20    Sangrur           170        635      22          827  19.4K\n",
              "18    Patiala           644        421      16         1081  29.8K"
            ]
          },
          "metadata": {
            "tags": []
          },
          "execution_count": 23
        }
      ]
    },
    {
      "cell_type": "code",
      "metadata": {
        "id": "jvbzzh12xKlq",
        "colab_type": "code",
        "colab": {
          "base_uri": "https://localhost:8080/",
          "height": 206
        },
        "outputId": "7956d9d5-8606-4556-8f18-fd2b1f499b2f"
      },
      "source": [
        "# Top five cities have Maximum Active cases\n",
        "df.sort_values('Active cases',ascending=False).head()"
      ],
      "execution_count": 24,
      "outputs": [
        {
          "output_type": "execute_result",
          "data": {
            "text/html": [
              "<div>\n",
              "<style scoped>\n",
              "    .dataframe tbody tr th:only-of-type {\n",
              "        vertical-align: middle;\n",
              "    }\n",
              "\n",
              "    .dataframe tbody tr th {\n",
              "        vertical-align: top;\n",
              "    }\n",
              "\n",
              "    .dataframe thead th {\n",
              "        text-align: right;\n",
              "    }\n",
              "</style>\n",
              "<table border=\"1\" class=\"dataframe\">\n",
              "  <thead>\n",
              "    <tr style=\"text-align: right;\">\n",
              "      <th></th>\n",
              "      <th>Districts</th>\n",
              "      <th>Active cases</th>\n",
              "      <th>Recovered</th>\n",
              "      <th>Deaths</th>\n",
              "      <th>Total cases</th>\n",
              "      <th>Tests</th>\n",
              "    </tr>\n",
              "  </thead>\n",
              "  <tbody>\n",
              "    <tr>\n",
              "      <th>18</th>\n",
              "      <td>Patiala</td>\n",
              "      <td>644</td>\n",
              "      <td>421</td>\n",
              "      <td>16</td>\n",
              "      <td>1081</td>\n",
              "      <td>29.8K</td>\n",
              "    </tr>\n",
              "    <tr>\n",
              "      <th>11</th>\n",
              "      <td>Ludhiana</td>\n",
              "      <td>632</td>\n",
              "      <td>1309</td>\n",
              "      <td>48</td>\n",
              "      <td>1989</td>\n",
              "      <td>48.2K</td>\n",
              "    </tr>\n",
              "    <tr>\n",
              "      <th>9</th>\n",
              "      <td>Jalandhar</td>\n",
              "      <td>552</td>\n",
              "      <td>1511</td>\n",
              "      <td>33</td>\n",
              "      <td>1736</td>\n",
              "      <td>30.1K</td>\n",
              "    </tr>\n",
              "    <tr>\n",
              "      <th>0</th>\n",
              "      <td>Amritsar</td>\n",
              "      <td>292</td>\n",
              "      <td>992</td>\n",
              "      <td>64</td>\n",
              "      <td>1348</td>\n",
              "      <td>32.9k</td>\n",
              "    </tr>\n",
              "    <tr>\n",
              "      <th>14</th>\n",
              "      <td>Mohali</td>\n",
              "      <td>178</td>\n",
              "      <td>384</td>\n",
              "      <td>12</td>\n",
              "      <td>574</td>\n",
              "      <td>15.4K</td>\n",
              "    </tr>\n",
              "  </tbody>\n",
              "</table>\n",
              "</div>"
            ],
            "text/plain": [
              "    Districts  Active cases  Recovered  Deaths  Total cases  Tests\n",
              "18    Patiala           644        421      16         1081  29.8K\n",
              "11   Ludhiana           632       1309      48         1989  48.2K\n",
              "9   Jalandhar           552       1511      33         1736  30.1K\n",
              "0    Amritsar           292        992      64         1348  32.9k\n",
              "14     Mohali           178        384      12          574  15.4K"
            ]
          },
          "metadata": {
            "tags": []
          },
          "execution_count": 24
        }
      ]
    },
    {
      "cell_type": "code",
      "metadata": {
        "id": "b-ZQ1BYwxK_2",
        "colab_type": "code",
        "colab": {
          "base_uri": "https://localhost:8080/",
          "height": 300
        },
        "outputId": "e1c4aea2-f348-4bf6-e98f-240d930bdd36"
      },
      "source": [
        "df.describe()"
      ],
      "execution_count": 25,
      "outputs": [
        {
          "output_type": "execute_result",
          "data": {
            "text/html": [
              "<div>\n",
              "<style scoped>\n",
              "    .dataframe tbody tr th:only-of-type {\n",
              "        vertical-align: middle;\n",
              "    }\n",
              "\n",
              "    .dataframe tbody tr th {\n",
              "        vertical-align: top;\n",
              "    }\n",
              "\n",
              "    .dataframe thead th {\n",
              "        text-align: right;\n",
              "    }\n",
              "</style>\n",
              "<table border=\"1\" class=\"dataframe\">\n",
              "  <thead>\n",
              "    <tr style=\"text-align: right;\">\n",
              "      <th></th>\n",
              "      <th>Active cases</th>\n",
              "      <th>Recovered</th>\n",
              "      <th>Deaths</th>\n",
              "      <th>Total cases</th>\n",
              "    </tr>\n",
              "  </thead>\n",
              "  <tbody>\n",
              "    <tr>\n",
              "      <th>count</th>\n",
              "      <td>22.000000</td>\n",
              "      <td>22.000000</td>\n",
              "      <td>22.000000</td>\n",
              "      <td>22.000000</td>\n",
              "    </tr>\n",
              "    <tr>\n",
              "      <th>mean</th>\n",
              "      <td>147.545455</td>\n",
              "      <td>352.227273</td>\n",
              "      <td>11.954545</td>\n",
              "      <td>494.954545</td>\n",
              "    </tr>\n",
              "    <tr>\n",
              "      <th>std</th>\n",
              "      <td>199.424822</td>\n",
              "      <td>403.698842</td>\n",
              "      <td>16.539929</td>\n",
              "      <td>549.641743</td>\n",
              "    </tr>\n",
              "    <tr>\n",
              "      <th>min</th>\n",
              "      <td>12.000000</td>\n",
              "      <td>62.000000</td>\n",
              "      <td>0.000000</td>\n",
              "      <td>81.000000</td>\n",
              "    </tr>\n",
              "    <tr>\n",
              "      <th>25%</th>\n",
              "      <td>32.250000</td>\n",
              "      <td>133.250000</td>\n",
              "      <td>2.000000</td>\n",
              "      <td>187.750000</td>\n",
              "    </tr>\n",
              "    <tr>\n",
              "      <th>50%</th>\n",
              "      <td>62.000000</td>\n",
              "      <td>179.500000</td>\n",
              "      <td>5.500000</td>\n",
              "      <td>234.000000</td>\n",
              "    </tr>\n",
              "    <tr>\n",
              "      <th>75%</th>\n",
              "      <td>155.750000</td>\n",
              "      <td>360.000000</td>\n",
              "      <td>12.000000</td>\n",
              "      <td>511.000000</td>\n",
              "    </tr>\n",
              "    <tr>\n",
              "      <th>max</th>\n",
              "      <td>644.000000</td>\n",
              "      <td>1511.000000</td>\n",
              "      <td>64.000000</td>\n",
              "      <td>1989.000000</td>\n",
              "    </tr>\n",
              "  </tbody>\n",
              "</table>\n",
              "</div>"
            ],
            "text/plain": [
              "       Active cases    Recovered     Deaths  Total cases\n",
              "count     22.000000    22.000000  22.000000    22.000000\n",
              "mean     147.545455   352.227273  11.954545   494.954545\n",
              "std      199.424822   403.698842  16.539929   549.641743\n",
              "min       12.000000    62.000000   0.000000    81.000000\n",
              "25%       32.250000   133.250000   2.000000   187.750000\n",
              "50%       62.000000   179.500000   5.500000   234.000000\n",
              "75%      155.750000   360.000000  12.000000   511.000000\n",
              "max      644.000000  1511.000000  64.000000  1989.000000"
            ]
          },
          "metadata": {
            "tags": []
          },
          "execution_count": 25
        }
      ]
    },
    {
      "cell_type": "code",
      "metadata": {
        "id": "QUov2gdCz5LD",
        "colab_type": "code",
        "colab": {
          "base_uri": "https://localhost:8080/",
          "height": 34
        },
        "outputId": "377d2bbf-bc4c-4672-9cf0-61d89521cee7"
      },
      "source": [
        "# Average cases has increased by 147 earlier it was recorded 123\n",
        "df['Active cases'].mean()"
      ],
      "execution_count": 26,
      "outputs": [
        {
          "output_type": "execute_result",
          "data": {
            "text/plain": [
              "147.54545454545453"
            ]
          },
          "metadata": {
            "tags": []
          },
          "execution_count": 26
        }
      ]
    }
  ]
}