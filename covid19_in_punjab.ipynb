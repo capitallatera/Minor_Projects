{
  "nbformat": 4,
  "nbformat_minor": 0,
  "metadata": {
    "kernelspec": {
      "display_name": "Python 3",
      "language": "python",
      "name": "python3"
    },
    "language_info": {
      "codemirror_mode": {
        "name": "ipython",
        "version": 3
      },
      "file_extension": ".py",
      "mimetype": "text/x-python",
      "name": "python",
      "nbconvert_exporter": "python",
      "pygments_lexer": "ipython3",
      "version": "3.7.4"
    },
    "colab": {
      "name": "covid19 in punjab.ipynb",
      "provenance": [],
      "include_colab_link": true
    }
  },
  "cells": [
    {
      "cell_type": "markdown",
      "metadata": {
        "id": "view-in-github",
        "colab_type": "text"
      },
      "source": [
        "<a href=\"https://colab.research.google.com/github/capitallatera/Minor_Projects/blob/master/covid19_in_punjab.ipynb\" target=\"_parent\"><img src=\"https://colab.research.google.com/assets/colab-badge.svg\" alt=\"Open In Colab\"/></a>"
      ]
    },
    {
      "cell_type": "code",
      "metadata": {
        "id": "fj7SimbBOzOI",
        "colab_type": "code",
        "colab": {}
      },
      "source": [
        "# pip install bs4"
      ],
      "execution_count": 1,
      "outputs": []
    },
    {
      "cell_type": "code",
      "metadata": {
        "id": "z3nv0YALOzOd",
        "colab_type": "code",
        "colab": {}
      },
      "source": [
        "# importing the BeautifulSoup Library\n",
        "import bs4\n",
        "import requests"
      ],
      "execution_count": 2,
      "outputs": []
    },
    {
      "cell_type": "code",
      "metadata": {
        "id": "x21SCmCyOzOv",
        "colab_type": "code",
        "colab": {}
      },
      "source": [
        "res=requests.get(\"https://en.wikipedia.org/wiki/COVID-19_pandemic_in_Punjab,_India\")"
      ],
      "execution_count": 3,
      "outputs": []
    },
    {
      "cell_type": "code",
      "metadata": {
        "id": "UfDiuwhkOzO8",
        "colab_type": "code",
        "colab": {}
      },
      "source": [
        "# Convert the request object to the Beautiful Soup Object\n",
        "soup=bs4.BeautifulSoup(res.text,'html.parser')"
      ],
      "execution_count": 4,
      "outputs": []
    },
    {
      "cell_type": "code",
      "metadata": {
        "id": "4eh0c9F5OzPG",
        "colab_type": "code",
        "colab": {}
      },
      "source": [
        "data=[]\n",
        "data_iterator=iter(soup.find_all('tr'))"
      ],
      "execution_count": 5,
      "outputs": []
    },
    {
      "cell_type": "code",
      "metadata": {
        "id": "F1arcinPOzPW",
        "colab_type": "code",
        "colab": {}
      },
      "source": [
        "while True:\n",
        "    try:\n",
        "        d_1=next(data_iterator).text\n",
        "        \n",
        "        data.append((\n",
        "            d_1\n",
        "        ))\n",
        "    except StopIteration:\n",
        "        break\n",
        "        "
      ],
      "execution_count": 6,
      "outputs": []
    },
    {
      "cell_type": "code",
      "metadata": {
        "id": "c-iKRj9zOzPh",
        "colab_type": "code",
        "colab": {}
      },
      "source": [
        "jj=[]\n",
        "for i in data:\n",
        "    s=i.replace(\"\\n\\n\",',')\n",
        "    s=s.replace('\\n','')\n",
        "    jj.append([s])"
      ],
      "execution_count": 7,
      "outputs": []
    },
    {
      "cell_type": "code",
      "metadata": {
        "id": "--H4W-LeOzPq",
        "colab_type": "code",
        "colab": {
          "base_uri": "https://localhost:8080/",
          "height": 51
        },
        "outputId": "5cce8bad-d60e-4dde-a115-9e175bc1810c"
      },
      "source": [
        "for i,j in zip(jj,range(len(jj))):\n",
        "    if i[0]=='COVID-19 pandemic in Punjab by Districts':\n",
        "        print(i[0],j)\n",
        "    if i[0]=='Date(2020),District,Cases,Deaths':\n",
        "        print(i[0],j)"
      ],
      "execution_count": 8,
      "outputs": [
        {
          "output_type": "stream",
          "text": [
            "COVID-19 pandemic in Punjab by Districts 16\n",
            "Date(2020),District,Cases,Deaths 42\n"
          ],
          "name": "stdout"
        }
      ]
    },
    {
      "cell_type": "code",
      "metadata": {
        "id": "RuzzvCo9OzP0",
        "colab_type": "code",
        "colab": {}
      },
      "source": [
        "llst=[]\n",
        "for i,j in zip(jj,range(len(jj))):\n",
        "    if j>=19 and j<41:\n",
        "        llst.append([i[0]])"
      ],
      "execution_count": 9,
      "outputs": []
    },
    {
      "cell_type": "code",
      "metadata": {
        "scrolled": true,
        "id": "XuQ4kmy-OzP9",
        "colab_type": "code",
        "colab": {}
      },
      "source": [
        "lst=[]\n",
        "for j in range(len(llst)):\n",
        "    ii=llst[j][0].split(',')\n",
        "    lst.append(ii)"
      ],
      "execution_count": 10,
      "outputs": []
    },
    {
      "cell_type": "code",
      "metadata": {
        "id": "SZ2KfDIVOzQH",
        "colab_type": "code",
        "colab": {}
      },
      "source": [
        "import csv\n",
        "fields=['Districts','Active cases','Recovered','Deaths','Total cases','Tests']\n",
        "lst\n",
        "filename='covid19_punjab_dataset.csv'\n",
        "with open(filename,'w') as csvfile:\n",
        "    csvwriter=csv.writer(csvfile)\n",
        "    csvwriter.writerow(fields)\n",
        "    csvwriter.writerows(lst)"
      ],
      "execution_count": 11,
      "outputs": []
    },
    {
      "cell_type": "code",
      "metadata": {
        "id": "Ry53D-cR8SkN",
        "colab_type": "code",
        "colab": {
          "base_uri": "https://localhost:8080/",
          "height": 391
        },
        "outputId": "b2752066-b8e0-46d9-87d0-5fce4d745e55"
      },
      "source": [
        "# llst\n",
        "lst"
      ],
      "execution_count": 12,
      "outputs": [
        {
          "output_type": "execute_result",
          "data": {
            "text/plain": [
              "[['Amritsar', '414', '1853', '96', '2363', '-'],\n",
              " ['Barnala', '313', '123', '9', '445', '-'],\n",
              " ['Bathinda', '465', '373', '11', '849', '-'],\n",
              " ['Faridkot', '100', '289', '1', '390', '-'],\n",
              " ['Fatehgarh Sahib', '133', '365', '5', '503', '-'],\n",
              " ['Fazilka', '92', '273', '2', '367', '-'],\n",
              " ['Firozpur', '361', '288', '8', '657', '-'],\n",
              " ['Gurdaspur', '252', '602', '24', '878', '-'],\n",
              " ['Hoshiarpur', '59', '556', '15', '630', '-'],\n",
              " ['Jalandhar', '977', '2032', '77', '3086', '-'],\n",
              " ['Kapurthala', '178', '238', '15', '431', '-'],\n",
              " ['Ludhiana', '1865', '3165', '173', '5203', '-'],\n",
              " ['Mansa', '60', '134', '1', '195', '-'],\n",
              " ['Moga', '266', '318', '5', '589', '-'],\n",
              " ['Mohali', '582', '659', '19', '1260', '-'],\n",
              " ['Muktsar Sahib', '64', '236', '2', '302', '-'],\n",
              " ['Nawanshahr', '74', '280', '7', '361', '-'],\n",
              " ['Pathankot', '164', '377', '13', '554', '-'],\n",
              " ['Patiala', '1078', '1592', '48', '2718', '-'],\n",
              " ['Rupnagar', '111', '250', '6', '367', '-'],\n",
              " ['Sangrur', '212', '1033', '36', '1281', '-'],\n",
              " ['Tarn Taran', '178', '283', '13', '474', '-']]"
            ]
          },
          "metadata": {
            "tags": []
          },
          "execution_count": 12
        }
      ]
    },
    {
      "cell_type": "markdown",
      "metadata": {
        "id": "1hTVKkiPOzQR",
        "colab_type": "text"
      },
      "source": [
        "###  Reading the dataset"
      ]
    },
    {
      "cell_type": "code",
      "metadata": {
        "id": "wqxQ4hPaOzQT",
        "colab_type": "code",
        "colab": {}
      },
      "source": [
        "import pandas as pd"
      ],
      "execution_count": 13,
      "outputs": []
    },
    {
      "cell_type": "code",
      "metadata": {
        "id": "jJ5R4IDJOzQb",
        "colab_type": "code",
        "colab": {
          "base_uri": "https://localhost:8080/",
          "height": 142
        },
        "outputId": "36c966af-92a1-40bd-bea0-f8591a95b526"
      },
      "source": [
        "df=pd.read_csv('covid19_punjab_dataset.csv')\n",
        "df.head(3)"
      ],
      "execution_count": 14,
      "outputs": [
        {
          "output_type": "execute_result",
          "data": {
            "text/html": [
              "<div>\n",
              "<style scoped>\n",
              "    .dataframe tbody tr th:only-of-type {\n",
              "        vertical-align: middle;\n",
              "    }\n",
              "\n",
              "    .dataframe tbody tr th {\n",
              "        vertical-align: top;\n",
              "    }\n",
              "\n",
              "    .dataframe thead th {\n",
              "        text-align: right;\n",
              "    }\n",
              "</style>\n",
              "<table border=\"1\" class=\"dataframe\">\n",
              "  <thead>\n",
              "    <tr style=\"text-align: right;\">\n",
              "      <th></th>\n",
              "      <th>Districts</th>\n",
              "      <th>Active cases</th>\n",
              "      <th>Recovered</th>\n",
              "      <th>Deaths</th>\n",
              "      <th>Total cases</th>\n",
              "      <th>Tests</th>\n",
              "    </tr>\n",
              "  </thead>\n",
              "  <tbody>\n",
              "    <tr>\n",
              "      <th>0</th>\n",
              "      <td>Amritsar</td>\n",
              "      <td>414</td>\n",
              "      <td>1853</td>\n",
              "      <td>96</td>\n",
              "      <td>2363</td>\n",
              "      <td>-</td>\n",
              "    </tr>\n",
              "    <tr>\n",
              "      <th>1</th>\n",
              "      <td>Barnala</td>\n",
              "      <td>313</td>\n",
              "      <td>123</td>\n",
              "      <td>9</td>\n",
              "      <td>445</td>\n",
              "      <td>-</td>\n",
              "    </tr>\n",
              "    <tr>\n",
              "      <th>2</th>\n",
              "      <td>Bathinda</td>\n",
              "      <td>465</td>\n",
              "      <td>373</td>\n",
              "      <td>11</td>\n",
              "      <td>849</td>\n",
              "      <td>-</td>\n",
              "    </tr>\n",
              "  </tbody>\n",
              "</table>\n",
              "</div>"
            ],
            "text/plain": [
              "  Districts  Active cases  Recovered  Deaths  Total cases Tests\n",
              "0  Amritsar           414       1853      96         2363     -\n",
              "1   Barnala           313        123       9          445     -\n",
              "2  Bathinda           465        373      11          849     -"
            ]
          },
          "metadata": {
            "tags": []
          },
          "execution_count": 14
        }
      ]
    },
    {
      "cell_type": "code",
      "metadata": {
        "id": "S8Y-HfX2OzQn",
        "colab_type": "code",
        "colab": {}
      },
      "source": [
        "# # remove the parenthesis area\n",
        "# s='a(12)b'\n",
        "# import re\n",
        "# re.sub(r\" ?\\([^)]+\\)\", \"\", s) "
      ],
      "execution_count": 15,
      "outputs": []
    },
    {
      "cell_type": "code",
      "metadata": {
        "id": "PTGkxAlDOzQv",
        "colab_type": "code",
        "colab": {
          "base_uri": "https://localhost:8080/",
          "height": 111
        },
        "outputId": "a7bc3b98-9751-48e2-8cc3-e6c203205404"
      },
      "source": [
        "df.head(2)"
      ],
      "execution_count": 16,
      "outputs": [
        {
          "output_type": "execute_result",
          "data": {
            "text/html": [
              "<div>\n",
              "<style scoped>\n",
              "    .dataframe tbody tr th:only-of-type {\n",
              "        vertical-align: middle;\n",
              "    }\n",
              "\n",
              "    .dataframe tbody tr th {\n",
              "        vertical-align: top;\n",
              "    }\n",
              "\n",
              "    .dataframe thead th {\n",
              "        text-align: right;\n",
              "    }\n",
              "</style>\n",
              "<table border=\"1\" class=\"dataframe\">\n",
              "  <thead>\n",
              "    <tr style=\"text-align: right;\">\n",
              "      <th></th>\n",
              "      <th>Districts</th>\n",
              "      <th>Active cases</th>\n",
              "      <th>Recovered</th>\n",
              "      <th>Deaths</th>\n",
              "      <th>Total cases</th>\n",
              "      <th>Tests</th>\n",
              "    </tr>\n",
              "  </thead>\n",
              "  <tbody>\n",
              "    <tr>\n",
              "      <th>0</th>\n",
              "      <td>Amritsar</td>\n",
              "      <td>414</td>\n",
              "      <td>1853</td>\n",
              "      <td>96</td>\n",
              "      <td>2363</td>\n",
              "      <td>-</td>\n",
              "    </tr>\n",
              "    <tr>\n",
              "      <th>1</th>\n",
              "      <td>Barnala</td>\n",
              "      <td>313</td>\n",
              "      <td>123</td>\n",
              "      <td>9</td>\n",
              "      <td>445</td>\n",
              "      <td>-</td>\n",
              "    </tr>\n",
              "  </tbody>\n",
              "</table>\n",
              "</div>"
            ],
            "text/plain": [
              "  Districts  Active cases  Recovered  Deaths  Total cases Tests\n",
              "0  Amritsar           414       1853      96         2363     -\n",
              "1   Barnala           313        123       9          445     -"
            ]
          },
          "metadata": {
            "tags": []
          },
          "execution_count": 16
        }
      ]
    },
    {
      "cell_type": "code",
      "metadata": {
        "id": "XkVW-H5LOzQ7",
        "colab_type": "code",
        "colab": {}
      },
      "source": [
        "import re\n",
        "# df['Active cases']=df['Active cases'].apply(lambda x:re.sub(r\" ?\\([^)]+\\)\",\"\", x))"
      ],
      "execution_count": 18,
      "outputs": []
    },
    {
      "cell_type": "code",
      "metadata": {
        "id": "ZUjIaSjUOzRH",
        "colab_type": "code",
        "colab": {}
      },
      "source": [
        "# df['Recovered']=df['Recovered'].apply(lambda x:re.sub(r\" ?\\([^)]+\\)\", \"\", x))"
      ],
      "execution_count": 20,
      "outputs": []
    },
    {
      "cell_type": "code",
      "metadata": {
        "id": "77ER65KLOzRO",
        "colab_type": "code",
        "colab": {}
      },
      "source": [
        "# df['Deaths']=df['Deaths'].apply(lambda x:re.sub(r\" ?\\([^)]+\\)\",\"\", x))"
      ],
      "execution_count": 22,
      "outputs": []
    },
    {
      "cell_type": "code",
      "metadata": {
        "id": "j0Fi4xG4OzRV",
        "colab_type": "code",
        "colab": {}
      },
      "source": [
        "df['Active cases']=df['Active cases'].map(lambda x: int(x))\n",
        "df['Recovered']=df['Recovered'].map(lambda x: int(x))\n",
        "df['Deaths']=df['Deaths'].map(lambda x: int(x))"
      ],
      "execution_count": 23,
      "outputs": []
    },
    {
      "cell_type": "code",
      "metadata": {
        "id": "L_-kenhQOzRb",
        "colab_type": "code",
        "colab": {
          "base_uri": "https://localhost:8080/",
          "height": 204
        },
        "outputId": "4783c002-361f-4e27-fc72-acee12e858c6"
      },
      "source": [
        "# Top five cities have Maximum Deaths\n",
        "df.sort_values('Deaths',ascending=False).head()"
      ],
      "execution_count": 24,
      "outputs": [
        {
          "output_type": "execute_result",
          "data": {
            "text/html": [
              "<div>\n",
              "<style scoped>\n",
              "    .dataframe tbody tr th:only-of-type {\n",
              "        vertical-align: middle;\n",
              "    }\n",
              "\n",
              "    .dataframe tbody tr th {\n",
              "        vertical-align: top;\n",
              "    }\n",
              "\n",
              "    .dataframe thead th {\n",
              "        text-align: right;\n",
              "    }\n",
              "</style>\n",
              "<table border=\"1\" class=\"dataframe\">\n",
              "  <thead>\n",
              "    <tr style=\"text-align: right;\">\n",
              "      <th></th>\n",
              "      <th>Districts</th>\n",
              "      <th>Active cases</th>\n",
              "      <th>Recovered</th>\n",
              "      <th>Deaths</th>\n",
              "      <th>Total cases</th>\n",
              "      <th>Tests</th>\n",
              "    </tr>\n",
              "  </thead>\n",
              "  <tbody>\n",
              "    <tr>\n",
              "      <th>11</th>\n",
              "      <td>Ludhiana</td>\n",
              "      <td>1865</td>\n",
              "      <td>3165</td>\n",
              "      <td>173</td>\n",
              "      <td>5203</td>\n",
              "      <td>-</td>\n",
              "    </tr>\n",
              "    <tr>\n",
              "      <th>0</th>\n",
              "      <td>Amritsar</td>\n",
              "      <td>414</td>\n",
              "      <td>1853</td>\n",
              "      <td>96</td>\n",
              "      <td>2363</td>\n",
              "      <td>-</td>\n",
              "    </tr>\n",
              "    <tr>\n",
              "      <th>9</th>\n",
              "      <td>Jalandhar</td>\n",
              "      <td>977</td>\n",
              "      <td>2032</td>\n",
              "      <td>77</td>\n",
              "      <td>3086</td>\n",
              "      <td>-</td>\n",
              "    </tr>\n",
              "    <tr>\n",
              "      <th>18</th>\n",
              "      <td>Patiala</td>\n",
              "      <td>1078</td>\n",
              "      <td>1592</td>\n",
              "      <td>48</td>\n",
              "      <td>2718</td>\n",
              "      <td>-</td>\n",
              "    </tr>\n",
              "    <tr>\n",
              "      <th>20</th>\n",
              "      <td>Sangrur</td>\n",
              "      <td>212</td>\n",
              "      <td>1033</td>\n",
              "      <td>36</td>\n",
              "      <td>1281</td>\n",
              "      <td>-</td>\n",
              "    </tr>\n",
              "  </tbody>\n",
              "</table>\n",
              "</div>"
            ],
            "text/plain": [
              "    Districts  Active cases  Recovered  Deaths  Total cases Tests\n",
              "11   Ludhiana          1865       3165     173         5203     -\n",
              "0    Amritsar           414       1853      96         2363     -\n",
              "9   Jalandhar           977       2032      77         3086     -\n",
              "18    Patiala          1078       1592      48         2718     -\n",
              "20    Sangrur           212       1033      36         1281     -"
            ]
          },
          "metadata": {
            "tags": []
          },
          "execution_count": 24
        }
      ]
    },
    {
      "cell_type": "code",
      "metadata": {
        "id": "jvbzzh12xKlq",
        "colab_type": "code",
        "colab": {
          "base_uri": "https://localhost:8080/",
          "height": 204
        },
        "outputId": "5a5b8195-b43e-4602-d87c-2cfaa48de6fe"
      },
      "source": [
        "# Top five cities have Maximum Active cases\n",
        "df.sort_values('Active cases',ascending=False).head()"
      ],
      "execution_count": 25,
      "outputs": [
        {
          "output_type": "execute_result",
          "data": {
            "text/html": [
              "<div>\n",
              "<style scoped>\n",
              "    .dataframe tbody tr th:only-of-type {\n",
              "        vertical-align: middle;\n",
              "    }\n",
              "\n",
              "    .dataframe tbody tr th {\n",
              "        vertical-align: top;\n",
              "    }\n",
              "\n",
              "    .dataframe thead th {\n",
              "        text-align: right;\n",
              "    }\n",
              "</style>\n",
              "<table border=\"1\" class=\"dataframe\">\n",
              "  <thead>\n",
              "    <tr style=\"text-align: right;\">\n",
              "      <th></th>\n",
              "      <th>Districts</th>\n",
              "      <th>Active cases</th>\n",
              "      <th>Recovered</th>\n",
              "      <th>Deaths</th>\n",
              "      <th>Total cases</th>\n",
              "      <th>Tests</th>\n",
              "    </tr>\n",
              "  </thead>\n",
              "  <tbody>\n",
              "    <tr>\n",
              "      <th>11</th>\n",
              "      <td>Ludhiana</td>\n",
              "      <td>1865</td>\n",
              "      <td>3165</td>\n",
              "      <td>173</td>\n",
              "      <td>5203</td>\n",
              "      <td>-</td>\n",
              "    </tr>\n",
              "    <tr>\n",
              "      <th>18</th>\n",
              "      <td>Patiala</td>\n",
              "      <td>1078</td>\n",
              "      <td>1592</td>\n",
              "      <td>48</td>\n",
              "      <td>2718</td>\n",
              "      <td>-</td>\n",
              "    </tr>\n",
              "    <tr>\n",
              "      <th>9</th>\n",
              "      <td>Jalandhar</td>\n",
              "      <td>977</td>\n",
              "      <td>2032</td>\n",
              "      <td>77</td>\n",
              "      <td>3086</td>\n",
              "      <td>-</td>\n",
              "    </tr>\n",
              "    <tr>\n",
              "      <th>14</th>\n",
              "      <td>Mohali</td>\n",
              "      <td>582</td>\n",
              "      <td>659</td>\n",
              "      <td>19</td>\n",
              "      <td>1260</td>\n",
              "      <td>-</td>\n",
              "    </tr>\n",
              "    <tr>\n",
              "      <th>2</th>\n",
              "      <td>Bathinda</td>\n",
              "      <td>465</td>\n",
              "      <td>373</td>\n",
              "      <td>11</td>\n",
              "      <td>849</td>\n",
              "      <td>-</td>\n",
              "    </tr>\n",
              "  </tbody>\n",
              "</table>\n",
              "</div>"
            ],
            "text/plain": [
              "    Districts  Active cases  Recovered  Deaths  Total cases Tests\n",
              "11   Ludhiana          1865       3165     173         5203     -\n",
              "18    Patiala          1078       1592      48         2718     -\n",
              "9   Jalandhar           977       2032      77         3086     -\n",
              "14     Mohali           582        659      19         1260     -\n",
              "2    Bathinda           465        373      11          849     -"
            ]
          },
          "metadata": {
            "tags": []
          },
          "execution_count": 25
        }
      ]
    },
    {
      "cell_type": "code",
      "metadata": {
        "id": "b-ZQ1BYwxK_2",
        "colab_type": "code",
        "colab": {
          "base_uri": "https://localhost:8080/",
          "height": 297
        },
        "outputId": "3fe1ef94-018f-4ddf-8cec-13e5c35a3eaa"
      },
      "source": [
        "df.describe()"
      ],
      "execution_count": 26,
      "outputs": [
        {
          "output_type": "execute_result",
          "data": {
            "text/html": [
              "<div>\n",
              "<style scoped>\n",
              "    .dataframe tbody tr th:only-of-type {\n",
              "        vertical-align: middle;\n",
              "    }\n",
              "\n",
              "    .dataframe tbody tr th {\n",
              "        vertical-align: top;\n",
              "    }\n",
              "\n",
              "    .dataframe thead th {\n",
              "        text-align: right;\n",
              "    }\n",
              "</style>\n",
              "<table border=\"1\" class=\"dataframe\">\n",
              "  <thead>\n",
              "    <tr style=\"text-align: right;\">\n",
              "      <th></th>\n",
              "      <th>Active cases</th>\n",
              "      <th>Recovered</th>\n",
              "      <th>Deaths</th>\n",
              "      <th>Total cases</th>\n",
              "    </tr>\n",
              "  </thead>\n",
              "  <tbody>\n",
              "    <tr>\n",
              "      <th>count</th>\n",
              "      <td>22.000000</td>\n",
              "      <td>22.000000</td>\n",
              "      <td>22.000000</td>\n",
              "      <td>22.000000</td>\n",
              "    </tr>\n",
              "    <tr>\n",
              "      <th>mean</th>\n",
              "      <td>363.545455</td>\n",
              "      <td>696.318182</td>\n",
              "      <td>26.636364</td>\n",
              "      <td>1086.500000</td>\n",
              "    </tr>\n",
              "    <tr>\n",
              "      <th>std</th>\n",
              "      <td>435.148111</td>\n",
              "      <td>778.990457</td>\n",
              "      <td>40.941940</td>\n",
              "      <td>1221.638624</td>\n",
              "    </tr>\n",
              "    <tr>\n",
              "      <th>min</th>\n",
              "      <td>59.000000</td>\n",
              "      <td>123.000000</td>\n",
              "      <td>1.000000</td>\n",
              "      <td>195.000000</td>\n",
              "    </tr>\n",
              "    <tr>\n",
              "      <th>25%</th>\n",
              "      <td>102.750000</td>\n",
              "      <td>274.750000</td>\n",
              "      <td>5.250000</td>\n",
              "      <td>400.250000</td>\n",
              "    </tr>\n",
              "    <tr>\n",
              "      <th>50%</th>\n",
              "      <td>195.000000</td>\n",
              "      <td>341.500000</td>\n",
              "      <td>12.000000</td>\n",
              "      <td>571.500000</td>\n",
              "    </tr>\n",
              "    <tr>\n",
              "      <th>75%</th>\n",
              "      <td>400.750000</td>\n",
              "      <td>644.750000</td>\n",
              "      <td>22.750000</td>\n",
              "      <td>1164.500000</td>\n",
              "    </tr>\n",
              "    <tr>\n",
              "      <th>max</th>\n",
              "      <td>1865.000000</td>\n",
              "      <td>3165.000000</td>\n",
              "      <td>173.000000</td>\n",
              "      <td>5203.000000</td>\n",
              "    </tr>\n",
              "  </tbody>\n",
              "</table>\n",
              "</div>"
            ],
            "text/plain": [
              "       Active cases    Recovered      Deaths  Total cases\n",
              "count     22.000000    22.000000   22.000000    22.000000\n",
              "mean     363.545455   696.318182   26.636364  1086.500000\n",
              "std      435.148111   778.990457   40.941940  1221.638624\n",
              "min       59.000000   123.000000    1.000000   195.000000\n",
              "25%      102.750000   274.750000    5.250000   400.250000\n",
              "50%      195.000000   341.500000   12.000000   571.500000\n",
              "75%      400.750000   644.750000   22.750000  1164.500000\n",
              "max     1865.000000  3165.000000  173.000000  5203.000000"
            ]
          },
          "metadata": {
            "tags": []
          },
          "execution_count": 26
        }
      ]
    },
    {
      "cell_type": "code",
      "metadata": {
        "id": "QUov2gdCz5LD",
        "colab_type": "code",
        "colab": {
          "base_uri": "https://localhost:8080/",
          "height": 34
        },
        "outputId": "8af820cc-cc0b-4058-9112-1e4520e34560"
      },
      "source": [
        "# Average cases has increased by 363 earlier it was recorded 200\n",
        "df['Active cases'].mean()"
      ],
      "execution_count": 27,
      "outputs": [
        {
          "output_type": "execute_result",
          "data": {
            "text/plain": [
              "363.54545454545456"
            ]
          },
          "metadata": {
            "tags": []
          },
          "execution_count": 27
        }
      ]
    },
    {
      "cell_type": "code",
      "metadata": {
        "id": "7AyjrMfzo7CR",
        "colab_type": "code",
        "colab": {}
      },
      "source": [
        ""
      ],
      "execution_count": null,
      "outputs": []
    }
  ]
}