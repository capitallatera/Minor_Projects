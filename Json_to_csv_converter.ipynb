{
  "nbformat": 4,
  "nbformat_minor": 0,
  "metadata": {
    "colab": {
      "name": "Json to csv converter",
      "provenance": [],
      "mount_file_id": "1J9WwikzRHnXg2khquiXfpXlqBqgcqexv",
      "authorship_tag": "ABX9TyMMkLF3SEjLNV9hWGpacLkA",
      "include_colab_link": true
    },
    "kernelspec": {
      "name": "python3",
      "display_name": "Python 3"
    }
  },
  "cells": [
    {
      "cell_type": "markdown",
      "metadata": {
        "id": "view-in-github",
        "colab_type": "text"
      },
      "source": [
        "<a href=\"https://colab.research.google.com/github/capitallatera/Minor_Projects/blob/master/Json_to_csv_converter.ipynb\" target=\"_parent\"><img src=\"https://colab.research.google.com/assets/colab-badge.svg\" alt=\"Open In Colab\"/></a>"
      ]
    },
    {
      "cell_type": "code",
      "metadata": {
        "id": "rKldxNPm9XQr",
        "colab_type": "code",
        "colab": {}
      },
      "source": [
        "import pandas as pd\n",
        "import json\n",
        "import csv"
      ],
      "execution_count": 143,
      "outputs": []
    },
    {
      "cell_type": "code",
      "metadata": {
        "id": "bxpvhGOj9mpU",
        "colab_type": "code",
        "colab": {}
      },
      "source": [
        "with open(\"/content/drive/My Drive/Dataset_18_7_20/epinions.json\",'r') as openfile:\n",
        "  json_object=json.loads(json.dumps(openfile.read()))"
      ],
      "execution_count": 144,
      "outputs": []
    },
    {
      "cell_type": "code",
      "metadata": {
        "id": "0nF7HAefCH8p",
        "colab_type": "code",
        "colab": {}
      },
      "source": [
        "data_file=open('data_file.csv','w')\n",
        "csv_writer=csv.writer(data_file)"
      ],
      "execution_count": 145,
      "outputs": []
    },
    {
      "cell_type": "code",
      "metadata": {
        "id": "gJLfyQrrCICu",
        "colab_type": "code",
        "colab": {}
      },
      "source": [
        "a=json_object.splitlines()\n",
        "count=0\n",
        "for i in a:\n",
        "  s=json.loads(i.replace(\"'\",\"\\\"\"))\n",
        "  print(s)\n",
        "  if count==0:\n",
        "    csv_writer.writerow(s.keys())\n",
        "    count+=1\n",
        "  csv_writer.writerow(s.values())"
      ],
      "execution_count": null,
      "outputs": []
    },
    {
      "cell_type": "code",
      "metadata": {
        "id": "vM6nxeFymBVq",
        "colab_type": "code",
        "colab": {
          "base_uri": "https://localhost:8080/",
          "height": 34
        },
        "outputId": "0b6f24f2-2fdd-4ebc-ed00-3228889376c0"
      },
      "source": [
        "ls"
      ],
      "execution_count": 147,
      "outputs": [
        {
          "output_type": "stream",
          "text": [
            "data_file.csv  \u001b[0m\u001b[01;34mdrive\u001b[0m/  \u001b[01;34msample_data\u001b[0m/\n"
          ],
          "name": "stdout"
        }
      ]
    },
    {
      "cell_type": "code",
      "metadata": {
        "id": "moS50UQ3mBeN",
        "colab_type": "code",
        "colab": {}
      },
      "source": [
        "df=pd.read_csv('data_file.csv')"
      ],
      "execution_count": 148,
      "outputs": []
    },
    {
      "cell_type": "code",
      "metadata": {
        "id": "7clC1x5vmBck",
        "colab_type": "code",
        "colab": {}
      },
      "source": [
        "df"
      ],
      "execution_count": null,
      "outputs": []
    },
    {
      "cell_type": "code",
      "metadata": {
        "id": "dvLicBIwmBaX",
        "colab_type": "code",
        "colab": {}
      },
      "source": [
        ""
      ],
      "execution_count": null,
      "outputs": []
    }
  ]
}